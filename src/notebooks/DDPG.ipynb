{
 "cells": [
  {
   "cell_type": "markdown",
   "metadata": {},
   "source": [
    "# Deep Deterministic Policy Gradient \n",
    "\n",
    "This notebook implements the DDPG."
   ]
  },
  {
   "cell_type": "code",
   "execution_count": 1,
   "metadata": {},
   "outputs": [
    {
     "name": "stdout",
     "output_type": "stream",
     "text": [
      "WARNING:tensorflow:From c:\\Users\\rs1044\\Documents\\GitHub\\Federated-Reinforcement-Learning-for-Battery-Charging\\.venv\\lib\\site-packages\\keras\\src\\losses.py:2976: The name tf.losses.sparse_softmax_cross_entropy is deprecated. Please use tf.compat.v1.losses.sparse_softmax_cross_entropy instead.\n",
      "\n",
      "WARNING:tensorflow:From c:\\Users\\rs1044\\Documents\\GitHub\\Federated-Reinforcement-Learning-for-Battery-Charging\\.venv\\lib\\site-packages\\tensorflow_probability\\python\\internal\\backend\\numpy\\_utils.py:48: The name tf.logging.TaskLevelStatusMessage is deprecated. Please use tf.compat.v1.logging.TaskLevelStatusMessage instead.\n",
      "\n",
      "WARNING:tensorflow:From c:\\Users\\rs1044\\Documents\\GitHub\\Federated-Reinforcement-Learning-for-Battery-Charging\\.venv\\lib\\site-packages\\tensorflow_probability\\python\\internal\\backend\\numpy\\_utils.py:48: The name tf.control_flow_v2_enabled is deprecated. Please use tf.compat.v1.control_flow_v2_enabled instead.\n",
      "\n",
      "WARNING:tensorflow:From c:\\Users\\rs1044\\Documents\\GitHub\\Federated-Reinforcement-Learning-for-Battery-Charging\\.venv\\lib\\site-packages\\tf_agents\\typing\\types.py:114: The name tf.train.Optimizer is deprecated. Please use tf.compat.v1.train.Optimizer instead.\n",
      "\n",
      "WARNING:tensorflow:From c:\\Users\\rs1044\\Documents\\GitHub\\Federated-Reinforcement-Learning-for-Battery-Charging\\.venv\\lib\\site-packages\\keras\\src\\backend.py:873: The name tf.get_default_graph is deprecated. Please use tf.compat.v1.get_default_graph instead.\n",
      "\n"
     ]
    },
    {
     "name": "stderr",
     "output_type": "stream",
     "text": [
      "Failed to detect the name of this notebook, you can set it manually with the WANDB_NOTEBOOK_NAME environment variable to enable code saving.\n",
      "\u001b[34m\u001b[1mwandb\u001b[0m: Currently logged in as: \u001b[33mjonas-sievers\u001b[0m (\u001b[33mipe\u001b[0m). Use \u001b[1m`wandb login --relogin`\u001b[0m to force relogin\n"
     ]
    },
    {
     "data": {
      "text/html": [
       "Tracking run with wandb version 0.16.1"
      ],
      "text/plain": [
       "<IPython.core.display.HTML object>"
      ]
     },
     "metadata": {},
     "output_type": "display_data"
    },
    {
     "data": {
      "text/html": [
       "Run data is saved locally in <code>c:\\Users\\rs1044\\Documents\\GitHub\\Federated-Reinforcement-Learning-for-Battery-Charging\\src\\notebooks\\wandb\\run-20231211_122318-oa8bmrzc</code>"
      ],
      "text/plain": [
       "<IPython.core.display.HTML object>"
      ]
     },
     "metadata": {},
     "output_type": "display_data"
    },
    {
     "data": {
      "text/html": [
       "Syncing run <strong><a href='https://wandb.ai/ipe/DDPG/runs/oa8bmrzc' target=\"_blank\">001</a></strong> to <a href='https://wandb.ai/ipe/DDPG' target=\"_blank\">Weights & Biases</a> (<a href='https://wandb.me/run' target=\"_blank\">docs</a>)<br/>"
      ],
      "text/plain": [
       "<IPython.core.display.HTML object>"
      ]
     },
     "metadata": {},
     "output_type": "display_data"
    },
    {
     "data": {
      "text/html": [
       " View project at <a href='https://wandb.ai/ipe/DDPG' target=\"_blank\">https://wandb.ai/ipe/DDPG</a>"
      ],
      "text/plain": [
       "<IPython.core.display.HTML object>"
      ]
     },
     "metadata": {},
     "output_type": "display_data"
    },
    {
     "data": {
      "text/html": [
       " View run at <a href='https://wandb.ai/ipe/DDPG/runs/oa8bmrzc' target=\"_blank\">https://wandb.ai/ipe/DDPG/runs/oa8bmrzc</a>"
      ],
      "text/plain": [
       "<IPython.core.display.HTML object>"
      ]
     },
     "metadata": {},
     "output_type": "display_data"
    },
    {
     "name": "stderr",
     "output_type": "stream",
     "text": [
      "\u001b[34m\u001b[1mwandb\u001b[0m: \u001b[33mWARNING\u001b[0m The save_model argument by default saves the model in the HDF5 format that cannot save custom objects like subclassed models and custom layers. This behavior will be deprecated in a future release in favor of the SavedModel format. Meanwhile, the HDF5 model is saved as W&B files and the SavedModel as W&B Artifacts.\n"
     ]
    }
   ],
   "source": [
    "#Imports\n",
    "import tensorflow as tf\n",
    "from tf_agents.agents import ddpg\n",
    "from tf_agents.agents.ddpg import ddpg_agent\n",
    "from tf_agents.drivers import dynamic_step_driver\n",
    "from tf_agents.environments import tf_py_environment\n",
    "from tf_agents.eval import metric_utils\n",
    "from tf_agents.metrics import tf_metrics\n",
    "from tf_agents.replay_buffers import tf_uniform_replay_buffer\n",
    "from tf_agents.utils import common\n",
    "\n",
    "import sys\n",
    "sys.path.insert(0, '..')\n",
    "import utils.Dataloader as DL\n",
    "from utils.modelgenerator import *\n",
    "import utils.actorNetworkCustom as actornet\n",
    "import utils.criticNetworkCustom as criticnet\n",
    "import Environment\n",
    "\n",
    "import wandb\n",
    "from wandb.keras import WandbCallback\n",
    "wandb.init(project=\"DDPG\",name=\"001\")\n",
    "wandb_callback = WandbCallback()"
   ]
  },
  {
   "cell_type": "markdown",
   "metadata": {},
   "source": [
    "### Hyperparameters"
   ]
  },
  {
   "cell_type": "code",
   "execution_count": 2,
   "metadata": {},
   "outputs": [],
   "source": [
    "\"\"\"\n",
    "Specifies the number of training iterations. It determines how many times the agent will go through the entire training process, \n",
    "adjusting its policy and value functions based on collected experiences. A sufficient number of iterations is crucial \n",
    "to allow the agent to learn and adapt to the environment, improving its performance over time.\n",
    "\"\"\"\n",
    "num_iterations = 1500\n",
    "customer = 1\n",
    "\n",
    "# Params for collect\n",
    "\"\"\"\n",
    "Defines the number of initial steps where the agent collects experiences randomly before the training begins. \n",
    "This helps to populate the replay buffer with diverse initial data.\n",
    "A well-populated replay buffer provides a diverse set of experiences for the agent to learn from, \n",
    "enhancing the stability and effectiveness of training.\n",
    "\"\"\"\n",
    "initial_collect_steps = 1000\n",
    "\n",
    "\"\"\"\n",
    "Specifies the number of steps the agent takes to collect experiences in each training iteration. \n",
    "It controls the balance between exploration and exploitation during training.\n",
    "Adequate exploration is necessary for discovering optimal policies. \n",
    "Adjusting this parameter impacts how often the agent explores its environment and updates its knowledge.\n",
    "\"\"\"\n",
    "collect_steps_per_iteration = 2000\n",
    "\n",
    "\"\"\"\n",
    "Sets the capacity of the replay buffer, a memory structure storing past experiences for the agent to sample during training.\n",
    "A sufficiently large replay buffer allows the agent to store and learn from a diverse set of experiences, \n",
    "mitigating issues related to correlated data and improving sample efficiency.\n",
    "\"\"\"\n",
    "replay_buffer_capacity = 1000000\n",
    "\n",
    "\"\"\"\n",
    "Determines the standard deviation of the Ornstein-Uhlenbeck process, which introduces exploration noise in the action space.\n",
    "Exploration noise aids the agent in exploring its action space,\n",
    "preventing it from getting stuck in local optima and promoting more robust learning.\n",
    "\"\"\"\n",
    "ou_stddev = 0.2\n",
    "\n",
    "\"\"\"\n",
    "Introduces a damping term to the Ornstein-Uhlenbeck process, influencing the exploration noise.\n",
    "Damping helps control the intensity of exploration noise, \n",
    "allowing a balance between exploration and exploitation based on the task's requirements.\n",
    "\"\"\"\n",
    "ou_damping = 0.15\n",
    "\n",
    "# Params for target update\n",
    "\"\"\"\n",
    "Represents the soft update coefficient for updating target networks, \n",
    "determining the degree to which the target networks track the main networks.\n",
    "Soft updates help stabilize training by slowly blending target values, \n",
    "preventing abrupt changes and improving the convergence of the learning process.\n",
    "\"\"\"\n",
    "target_update_tau = 0.05\n",
    "\n",
    "\"\"\"\n",
    "Defines how often the target networks are updated in terms of training steps.\n",
    "Controlling the update frequency balances stability and responsiveness, \n",
    "preventing the target networks from lagging too far behind or updating too frequently.\n",
    "\"\"\"\n",
    "target_update_period = 5\n",
    "\n",
    "# Params for train\n",
    "\"\"\"\n",
    "Specifies the number of gradient descent steps taken on the training batch in each training iteration.\n",
    "Adjusting this parameter impacts the convergence speed of the training process, \n",
    "influencing how much the agent learns from each collected batch of experiences.\n",
    "\"\"\"\n",
    "train_steps_per_iteration = 1\n",
    "\n",
    "\"\"\"\n",
    "Sets the size of the training batch sampled from the replay buffer.\n",
    "The batch size affects the efficiency of training; \n",
    "a well-chosen size balances computational efficiency and the stability of the learning process.\n",
    "\"\"\"\n",
    "batch_size = 48 * 7\n",
    "\n",
    "\"\"\"\n",
    "Specifies the learning rate for the actor (policy) network during gradient descent.\n",
    "The learning rate controls the size of the step taken during optimization. \n",
    "A suitable learning rate ensures the model converges effectively without overshooting or getting stuck in local minima.\n",
    "\"\"\"\n",
    "actor_learning_rate = 1e-4\n",
    "\n",
    "\"\"\"\n",
    "Defines the learning rate for the critic (Q-value) network during gradient descent.\n",
    "Similar to the actor learning rate, an appropriate critic learning rate influences \n",
    "the convergence and stability of the critic network, which plays a crucial role in estimating Q-values.\n",
    "\"\"\"\n",
    "critic_learning_rate = 1e-3\n",
    "\n",
    "\"\"\"\n",
    "An optional parameter for clipping the gradient of the Q-value with respect to actions.\n",
    "Clipping gradients can prevent large updates that may destabilize training, \n",
    "acting as a form of regularization and improving the robustness of the learning process.\n",
    "\"\"\"\n",
    "dqda_clipping = None\n",
    "\n",
    "\"\"\"\n",
    "Specifies the loss function for temporal difference (TD) errors, \n",
    "representing the discrepancy between predicted and actual Q-values.\n",
    "The choice of loss function influences how the agent updates its value estimates. \n",
    "Huber loss, as specified here, is robust to outliers and provides a balance between mean squared error and mean absolute error.\n",
    "\"\"\"\n",
    "td_errors_loss_fn = tf.compat.v1.losses.huber_loss\n",
    "\n",
    "\"\"\"\n",
    "Represents the discount factor applied to future rewards in the Q-value estimation.\n",
    "Discounting future rewards emphasizes the importance of immediate rewards, e\n",
    "nabling the agent to make more informed decisions that consider both short-term and long-term consequences.\n",
    "\"\"\"\n",
    "gamma = 0.99\n",
    "\n",
    "\"\"\"\n",
    "Scales the rewards during training.Scaling rewards helps to control the impact of reward magnitudes on the learning process, \n",
    "preventing issues related to overly large or small rewards.\n",
    "\"\"\"\n",
    "reward_scale_factor = 1.0\n",
    "\n",
    "\"\"\"An optional parameter for clipping gradients during training.\"\"\"\n",
    "gradient_clipping = None\n",
    "\n",
    "# Params for eval and checkpoints\n",
    "\"\"\"\n",
    "Specifies the number of episodes used for evaluating the agent's performance.\n",
    "Evaluating the agent's performance provides insights into its generalization \n",
    "capabilities and allows for monitoring progress over time.\"\"\"\n",
    "num_eval_episodes = 1\n",
    "\n",
    "\"\"\"\n",
    "Sets the frequency (in iterations) at which evaluations are performed.\n",
    "Regular evaluations help track the agent's progress, enabling the identification of potential issues and providing \n",
    "a basis for comparison between different training iterations.\n",
    "\"\"\"\n",
    "eval_interval = 50\n"
   ]
  },
  {
   "cell_type": "markdown",
   "metadata": {},
   "source": [
    "### Data Handling"
   ]
  },
  {
   "cell_type": "code",
   "execution_count": 3,
   "metadata": {},
   "outputs": [],
   "source": [
    "# Load data\n",
    "data_train = DL.get_customer_data(DL.loadData('../../data/load1011.csv'), DL.loadPrice('../../data/price.csv'), customer)\n",
    "data_eval = DL.get_customer_data(DL.loadData('../../data/load1112.csv'), DL.loadPrice('../../data/price.csv'), customer)"
   ]
  },
  {
   "cell_type": "code",
   "execution_count": 4,
   "metadata": {},
   "outputs": [
    {
     "data": {
      "text/html": [
       "<div>\n",
       "<style scoped>\n",
       "    .dataframe tbody tr th:only-of-type {\n",
       "        vertical-align: middle;\n",
       "    }\n",
       "\n",
       "    .dataframe tbody tr th {\n",
       "        vertical-align: top;\n",
       "    }\n",
       "\n",
       "    .dataframe thead th {\n",
       "        text-align: right;\n",
       "    }\n",
       "</style>\n",
       "<table border=\"1\" class=\"dataframe\">\n",
       "  <thead>\n",
       "    <tr style=\"text-align: right;\">\n",
       "      <th></th>\n",
       "      <th>0:30</th>\n",
       "      <th>1:00</th>\n",
       "      <th>1:30</th>\n",
       "      <th>2:00</th>\n",
       "      <th>2:30</th>\n",
       "      <th>3:00</th>\n",
       "      <th>3:30</th>\n",
       "      <th>4:00</th>\n",
       "      <th>4:30</th>\n",
       "      <th>5:00</th>\n",
       "      <th>...</th>\n",
       "      <th>19:30</th>\n",
       "      <th>20:00</th>\n",
       "      <th>20:30</th>\n",
       "      <th>21:00</th>\n",
       "      <th>21:30</th>\n",
       "      <th>22:00</th>\n",
       "      <th>22:30</th>\n",
       "      <th>23:00</th>\n",
       "      <th>23:30</th>\n",
       "      <th>0:00</th>\n",
       "    </tr>\n",
       "  </thead>\n",
       "  <tbody>\n",
       "    <tr>\n",
       "      <th>0</th>\n",
       "      <td>0.0</td>\n",
       "      <td>0.0</td>\n",
       "      <td>0.0</td>\n",
       "      <td>0.0</td>\n",
       "      <td>0.0</td>\n",
       "      <td>0.0</td>\n",
       "      <td>0.0</td>\n",
       "      <td>0.0</td>\n",
       "      <td>0.0</td>\n",
       "      <td>0.0</td>\n",
       "      <td>...</td>\n",
       "      <td>0.0</td>\n",
       "      <td>0.0</td>\n",
       "      <td>0.0</td>\n",
       "      <td>0.0</td>\n",
       "      <td>0.0</td>\n",
       "      <td>0.0</td>\n",
       "      <td>0.0</td>\n",
       "      <td>0.0</td>\n",
       "      <td>0.0</td>\n",
       "      <td>0.0</td>\n",
       "    </tr>\n",
       "    <tr>\n",
       "      <th>1</th>\n",
       "      <td>0.0</td>\n",
       "      <td>0.0</td>\n",
       "      <td>0.0</td>\n",
       "      <td>0.0</td>\n",
       "      <td>0.0</td>\n",
       "      <td>0.0</td>\n",
       "      <td>0.0</td>\n",
       "      <td>0.0</td>\n",
       "      <td>0.0</td>\n",
       "      <td>0.0</td>\n",
       "      <td>...</td>\n",
       "      <td>0.0</td>\n",
       "      <td>0.0</td>\n",
       "      <td>0.0</td>\n",
       "      <td>0.0</td>\n",
       "      <td>0.0</td>\n",
       "      <td>0.0</td>\n",
       "      <td>0.0</td>\n",
       "      <td>0.0</td>\n",
       "      <td>0.0</td>\n",
       "      <td>0.0</td>\n",
       "    </tr>\n",
       "    <tr>\n",
       "      <th>2</th>\n",
       "      <td>0.0</td>\n",
       "      <td>0.0</td>\n",
       "      <td>0.0</td>\n",
       "      <td>0.0</td>\n",
       "      <td>0.0</td>\n",
       "      <td>0.0</td>\n",
       "      <td>0.0</td>\n",
       "      <td>0.0</td>\n",
       "      <td>0.0</td>\n",
       "      <td>0.0</td>\n",
       "      <td>...</td>\n",
       "      <td>0.0</td>\n",
       "      <td>0.0</td>\n",
       "      <td>0.0</td>\n",
       "      <td>0.0</td>\n",
       "      <td>0.0</td>\n",
       "      <td>0.0</td>\n",
       "      <td>0.0</td>\n",
       "      <td>0.0</td>\n",
       "      <td>0.0</td>\n",
       "      <td>0.0</td>\n",
       "    </tr>\n",
       "  </tbody>\n",
       "</table>\n",
       "<p>3 rows × 48 columns</p>\n",
       "</div>"
      ],
      "text/plain": [
       "   0:30  1:00  1:30  2:00  2:30  3:00  3:30  4:00  4:30  5:00  ...  19:30  \\\n",
       "0   0.0   0.0   0.0   0.0   0.0   0.0   0.0   0.0   0.0   0.0  ...    0.0   \n",
       "1   0.0   0.0   0.0   0.0   0.0   0.0   0.0   0.0   0.0   0.0  ...    0.0   \n",
       "2   0.0   0.0   0.0   0.0   0.0   0.0   0.0   0.0   0.0   0.0  ...    0.0   \n",
       "\n",
       "   20:00  20:30  21:00  21:30  22:00  22:30  23:00  23:30  0:00  \n",
       "0    0.0    0.0    0.0    0.0    0.0    0.0    0.0    0.0   0.0  \n",
       "1    0.0    0.0    0.0    0.0    0.0    0.0    0.0    0.0   0.0  \n",
       "2    0.0    0.0    0.0    0.0    0.0    0.0    0.0    0.0   0.0  \n",
       "\n",
       "[3 rows x 48 columns]"
      ]
     },
     "execution_count": 4,
     "metadata": {},
     "output_type": "execute_result"
    }
   ],
   "source": [
    "data_train[1][:3]"
   ]
  },
  {
   "cell_type": "markdown",
   "metadata": {},
   "source": [
    "### Create custom models"
   ]
  },
  {
   "cell_type": "code",
   "execution_count": 5,
   "metadata": {},
   "outputs": [],
   "source": [
    "m1 = ModelGenerator()\n",
    "# get_dense_layers(), get_bilstm_model(), get_lstm_model(), get_cnn_lstm_model(), get_cnn_model()\n",
    "custom_layers = m1.get_cnn_model()\n",
    "\n",
    "# Create a copy of the layers, so no weights are duplicated\n",
    "def copy_layer(layer):\n",
    "    return tf.keras.layers.deserialize({'class_name': layer.__class__.__name__, 'config': layer.get_config()})\n",
    "\n",
    "# Create copies of the original layers\n",
    "actor_layers = [copy_layer(layer) for layer in custom_layers]\n",
    "target_actor_layers = [copy_layer(layer) for layer in custom_layers]\n",
    "critic_layers = [copy_layer(layer) for layer in custom_layers]\n",
    "target_critic_layers = [copy_layer(layer) for layer in custom_layers]"
   ]
  },
  {
   "cell_type": "code",
   "execution_count": 6,
   "metadata": {},
   "outputs": [],
   "source": [
    "# Prepare runner\n",
    "# Get or create the global step variable, which is a counter for the number of training steps\n",
    "global_step = tf.compat.v1.train.get_or_create_global_step()\n",
    "\n",
    "# Create TensorFlow environments for training and evaluation using custom environment settings\n",
    "tf_env_train = tf_py_environment.TFPyEnvironment(Environment.Environment(init_charge=0.0, data=data_train))\n",
    "tf_env_eval = tf_py_environment.TFPyEnvironment(Environment.Environment(init_charge=0.0, data=data_eval))\n",
    "\n",
    "## Define the actor network, responsible for generating actions based on observations\n",
    "actor_net = actornet.ActorNetworkCustom(\n",
    "    observation_spec=tf_env_train.observation_spec(),\n",
    "    action_spec=tf_env_train.action_spec(),\n",
    "    custom_layers=actor_layers,\n",
    "    use_ensemble=False,\n",
    ")\n",
    "\n",
    "target_actor_net = actornet.ActorNetworkCustom(\n",
    "    observation_spec=tf_env_train.observation_spec(),\n",
    "    action_spec=tf_env_train.action_spec(),\n",
    "    custom_layers=target_actor_layers,\n",
    "    use_ensemble=False,\n",
    ")\n",
    "\n",
    "critic_net = criticnet.CriticNetworkCustom(\n",
    "    observation_spec=tf_env_train.observation_spec(),\n",
    "    action_spec=tf_env_train.action_spec(),\n",
    "    custom_layers=critic_layers,\n",
    "    name='CriticNetworkCustom',\n",
    ")\n",
    "\n",
    "# Optionally, you can create a target critic network for stability in DDPG\n",
    "target_critic_net = criticnet.CriticNetworkCustom(\n",
    "    observation_spec=tf_env_train.observation_spec(),\n",
    "    action_spec=tf_env_train.action_spec(),\n",
    "    custom_layers=target_critic_layers,\n",
    "    name='TargetCriticNetworkCustom',\n",
    ")\n",
    "\n",
    "# Create a DDPG agent using the defined actor and critic networks, along with other parameters\n",
    "tf_agent = ddpg_agent.DdpgAgent(\n",
    "    tf_env_train.time_step_spec(),\n",
    "    tf_env_train.action_spec(),\n",
    "    actor_network=actor_net,\n",
    "    target_actor_network=target_actor_net,\n",
    "    critic_network=critic_net,\n",
    "    target_critic_network=target_critic_net,\n",
    "    actor_optimizer=tf.compat.v1.train.AdamOptimizer(learning_rate=actor_learning_rate),\n",
    "    critic_optimizer=tf.compat.v1.train.AdamOptimizer(learning_rate=critic_learning_rate),\n",
    "    ou_stddev=ou_stddev, # Standard deviation for Ornstein-Uhlenbeck noise\n",
    "    ou_damping=ou_damping, # Damping term for Ornstein-Uhlenbeck noise\n",
    "    target_update_tau=target_update_tau, # Soft update coefficient for target networks\n",
    "    target_update_period=target_update_period, # Frequency of updating target networks\n",
    "    dqda_clipping=dqda_clipping, # Optional clipping of the gradient of Q-value with respect to actions\n",
    "    td_errors_loss_fn=td_errors_loss_fn, # Loss function for temporal difference errors\n",
    "    gamma=gamma, # Discount factor for future rewards\n",
    "    reward_scale_factor=reward_scale_factor, # Scaling factor for rewards during training\n",
    "    gradient_clipping=gradient_clipping, # Optional clipping of gradients during training\n",
    "    debug_summaries=False, # Disable debug summaries\n",
    "    summarize_grads_and_vars=False,  # Disable summarizing gradients and variables\n",
    "    train_step_counter=global_step,  # Use the global step as the train step counter\n",
    ")\n",
    "\n",
    "tf_agent.initialize()"
   ]
  },
  {
   "cell_type": "markdown",
   "metadata": {},
   "source": [
    "### Initialize DDPG"
   ]
  },
  {
   "cell_type": "code",
   "execution_count": 7,
   "metadata": {},
   "outputs": [],
   "source": [
    "eval_policy = tf_agent.policy\n",
    "collect_policy = tf_agent.collect_policy\n",
    "\n",
    "replay_buffer = tf_uniform_replay_buffer.TFUniformReplayBuffer(\n",
    "    tf_agent.collect_data_spec,\n",
    "    batch_size=tf_env_train.batch_size,\n",
    "    max_length=replay_buffer_capacity,\n",
    ")\n",
    "\n",
    "initial_collect_driver = dynamic_step_driver.DynamicStepDriver(\n",
    "    tf_env_train,\n",
    "    collect_policy,\n",
    "    observers=[replay_buffer.add_batch],\n",
    "    num_steps=initial_collect_steps,\n",
    ")\n",
    "\n",
    "collect_driver = dynamic_step_driver.DynamicStepDriver(\n",
    "    tf_env_train,\n",
    "    collect_policy,\n",
    "    observers=[replay_buffer.add_batch],\n",
    "    num_steps=collect_steps_per_iteration,\n",
    ")\n",
    "\n",
    "train_checkpointer = common.Checkpointer(\n",
    "    ckpt_dir='checkpoints/ddpg' + str(customer) + '/',\n",
    "    max_to_keep=1,\n",
    "    agent=tf_agent,\n",
    "    policy=tf_agent.policy,\n",
    "    replay_buffer=replay_buffer,\n",
    "    global_step=global_step\n",
    ")\n",
    "\n",
    "eval_summary_writer = tf.compat.v2.summary.create_file_writer(\n",
    "    logdir='./log/ddpg' + str(customer) + '/', flush_millis=10000\n",
    ")\n",
    "\n",
    "eval_metrics = [\n",
    "    tf_metrics.AverageReturnMetric(buffer_size=num_eval_episodes)\n",
    "]\n",
    "\n",
    "train_checkpointer.initialize_or_restore()\n",
    "global_step = tf.compat.v1.train.get_global_step()"
   ]
  },
  {
   "cell_type": "code",
   "execution_count": 8,
   "metadata": {},
   "outputs": [],
   "source": [
    "# For better performance\n",
    "initial_collect_driver.run = common.function(initial_collect_driver.run)\n",
    "collect_driver.run = common.function(collect_driver.run)\n",
    "tf_agent.train = common.function(tf_agent.train)"
   ]
  },
  {
   "cell_type": "code",
   "execution_count": 9,
   "metadata": {},
   "outputs": [
    {
     "name": "stderr",
     "output_type": "stream",
     "text": [
      "c:\\Users\\rs1044\\Documents\\GitHub\\Federated-Reinforcement-Learning-for-Battery-Charging\\src\\notebooks\\..\\Environment.py:129: FutureWarning: Series.__getitem__ treating keys as positions is deprecated. In a future version, integer keys will always be treated as labels (consistent with DataFrame behavior). To access a value by position, use `ser.iloc[pos]`\n",
      "  load = self._load_data.iloc[self._current_day][self._current_timeslot]\n",
      "c:\\Users\\rs1044\\Documents\\GitHub\\Federated-Reinforcement-Learning-for-Battery-Charging\\src\\notebooks\\..\\Environment.py:130: FutureWarning: Series.__getitem__ treating keys as positions is deprecated. In a future version, integer keys will always be treated as labels (consistent with DataFrame behavior). To access a value by position, use `ser.iloc[pos]`\n",
      "  pv = self._pv_data.iloc[self._current_day][self._current_timeslot]\n",
      "c:\\Users\\rs1044\\Documents\\GitHub\\Federated-Reinforcement-Learning-for-Battery-Charging\\src\\notebooks\\..\\Environment.py:132: FutureWarning: Series.__getitem__ treating keys as positions is deprecated. In a future version, integer keys will always be treated as labels (consistent with DataFrame behavior). To access a value by position, use `ser.iloc[pos]`\n",
      "  self._electricity_prices.iloc[(self._current_day * self._max_timeslots) + self._current_timeslot][0]\n"
     ]
    }
   ],
   "source": [
    "# Collect initial replay data\n",
    "initial_collect_driver.run()\n",
    "\n",
    "time_step = tf_env_train.reset()\n",
    "policy_state = collect_policy.get_initial_state(tf_env_train.batch_size)"
   ]
  },
  {
   "cell_type": "markdown",
   "metadata": {},
   "source": [
    "### Run DDPG"
   ]
  },
  {
   "cell_type": "code",
   "execution_count": 15,
   "metadata": {},
   "outputs": [
    {
     "name": "stderr",
     "output_type": "stream",
     "text": [
      "c:\\Users\\rs1044\\Documents\\GitHub\\Federated-Reinforcement-Learning-for-Battery-Charging\\src\\notebooks\\..\\Environment.py:129: FutureWarning: Series.__getitem__ treating keys as positions is deprecated. In a future version, integer keys will always be treated as labels (consistent with DataFrame behavior). To access a value by position, use `ser.iloc[pos]`\n",
      "  load = self._load_data.iloc[self._current_day][self._current_timeslot]\n",
      "c:\\Users\\rs1044\\Documents\\GitHub\\Federated-Reinforcement-Learning-for-Battery-Charging\\src\\notebooks\\..\\Environment.py:130: FutureWarning: Series.__getitem__ treating keys as positions is deprecated. In a future version, integer keys will always be treated as labels (consistent with DataFrame behavior). To access a value by position, use `ser.iloc[pos]`\n",
      "  pv = self._pv_data.iloc[self._current_day][self._current_timeslot]\n",
      "c:\\Users\\rs1044\\Documents\\GitHub\\Federated-Reinforcement-Learning-for-Battery-Charging\\src\\notebooks\\..\\Environment.py:132: FutureWarning: Series.__getitem__ treating keys as positions is deprecated. In a future version, integer keys will always be treated as labels (consistent with DataFrame behavior). To access a value by position, use `ser.iloc[pos]`\n",
      "  self._electricity_prices.iloc[(self._current_day * self._max_timeslots) + self._current_timeslot][0]\n"
     ]
    },
    {
     "ename": "AttributeError",
     "evalue": "No TensorFlow session-like object was provided, and none could be retrieved using 'tf.get_default_session()'.\n  In call to configurable 'compute_summaries' (<function compute_summaries at 0x00000163EB434700>)",
     "output_type": "error",
     "traceback": [
      "\u001b[1;31m---------------------------------------------------------------------------\u001b[0m",
      "\u001b[1;31mAttributeError\u001b[0m                            Traceback (most recent call last)",
      "Cell \u001b[1;32mIn[15], line 17\u001b[0m\n\u001b[0;32m      5\u001b[0m \u001b[38;5;28;01mwith\u001b[39;00m tf\u001b[38;5;241m.\u001b[39mcompat\u001b[38;5;241m.\u001b[39mv2\u001b[38;5;241m.\u001b[39msummary\u001b[38;5;241m.\u001b[39mrecord_if(\u001b[38;5;28;01mTrue\u001b[39;00m):\n\u001b[0;32m      7\u001b[0m \u001b[38;5;250m    \u001b[39m\u001b[38;5;124;03m\"\"\" metric_utils.eager_compute(\u001b[39;00m\n\u001b[0;32m      8\u001b[0m \u001b[38;5;124;03m    eval_metrics,\u001b[39;00m\n\u001b[0;32m      9\u001b[0m \u001b[38;5;124;03m    tf_env_eval,\u001b[39;00m\n\u001b[1;32m   (...)\u001b[0m\n\u001b[0;32m     14\u001b[0m \u001b[38;5;124;03m    summary_prefix='Metrics'\u001b[39;00m\n\u001b[0;32m     15\u001b[0m \u001b[38;5;124;03m    )\"\"\"\u001b[39;00m\n\u001b[1;32m---> 17\u001b[0m     \u001b[43mmetric_utils\u001b[49m\u001b[38;5;241;43m.\u001b[39;49m\u001b[43mcompute_summaries\u001b[49m\u001b[43m(\u001b[49m\n\u001b[0;32m     18\u001b[0m \u001b[43m        \u001b[49m\u001b[43meval_metrics\u001b[49m\u001b[43m,\u001b[49m\n\u001b[0;32m     19\u001b[0m \u001b[43m        \u001b[49m\u001b[43mtf_env_eval\u001b[49m\u001b[43m,\u001b[49m\n\u001b[0;32m     20\u001b[0m \u001b[43m        \u001b[49m\u001b[43meval_policy\u001b[49m\u001b[43m,\u001b[49m\n\u001b[0;32m     21\u001b[0m \u001b[43m        \u001b[49m\u001b[43mnum_episodes\u001b[49m\u001b[38;5;241;43m=\u001b[39;49m\u001b[38;5;241;43m1\u001b[39;49m\u001b[43m,\u001b[49m\n\u001b[0;32m     22\u001b[0m \u001b[43m        \u001b[49m\u001b[43mglobal_step\u001b[49m\u001b[38;5;241;43m=\u001b[39;49m\u001b[38;5;28;43;01mNone\u001b[39;49;00m\u001b[43m,\u001b[49m\n\u001b[0;32m     23\u001b[0m \u001b[43m        \u001b[49m\u001b[43mtf_summaries\u001b[49m\u001b[38;5;241;43m=\u001b[39;49m\u001b[38;5;28;43;01mTrue\u001b[39;49;00m\u001b[43m,\u001b[49m\n\u001b[0;32m     24\u001b[0m \u001b[43m        \u001b[49m\u001b[43mlog\u001b[49m\u001b[38;5;241;43m=\u001b[39;49m\u001b[38;5;28;43;01mFalse\u001b[39;49;00m\u001b[43m,\u001b[49m\n\u001b[0;32m     25\u001b[0m \u001b[43m        \u001b[49m\u001b[43mcallback\u001b[49m\u001b[38;5;241;43m=\u001b[39;49m\u001b[38;5;28;43;01mNone\u001b[39;49;00m\n\u001b[0;32m     26\u001b[0m \u001b[43m    \u001b[49m\u001b[43m)\u001b[49m\n\u001b[0;32m     28\u001b[0m     \u001b[38;5;66;03m# Train and evaluate\u001b[39;00m\n\u001b[0;32m     29\u001b[0m     \u001b[38;5;28;01mwhile\u001b[39;00m global_step\u001b[38;5;241m.\u001b[39mnumpy() \u001b[38;5;241m<\u001b[39m\u001b[38;5;241m=\u001b[39m num_iterations:\n",
      "File \u001b[1;32mc:\\Users\\rs1044\\Documents\\GitHub\\Federated-Reinforcement-Learning-for-Battery-Charging\\.venv\\lib\\site-packages\\gin\\config.py:1605\u001b[0m, in \u001b[0;36m_make_gin_wrapper.<locals>.gin_wrapper\u001b[1;34m(*args, **kwargs)\u001b[0m\n\u001b[0;32m   1603\u001b[0m scope_info \u001b[38;5;241m=\u001b[39m \u001b[38;5;124m\"\u001b[39m\u001b[38;5;124m in scope \u001b[39m\u001b[38;5;124m'\u001b[39m\u001b[38;5;132;01m{}\u001b[39;00m\u001b[38;5;124m'\u001b[39m\u001b[38;5;124m\"\u001b[39m\u001b[38;5;241m.\u001b[39mformat(scope_str) \u001b[38;5;28;01mif\u001b[39;00m scope_str \u001b[38;5;28;01melse\u001b[39;00m \u001b[38;5;124m'\u001b[39m\u001b[38;5;124m'\u001b[39m\n\u001b[0;32m   1604\u001b[0m err_str \u001b[38;5;241m=\u001b[39m err_str\u001b[38;5;241m.\u001b[39mformat(name, fn_or_cls, scope_info)\n\u001b[1;32m-> 1605\u001b[0m \u001b[43mutils\u001b[49m\u001b[38;5;241;43m.\u001b[39;49m\u001b[43maugment_exception_message_and_reraise\u001b[49m\u001b[43m(\u001b[49m\u001b[43me\u001b[49m\u001b[43m,\u001b[49m\u001b[43m \u001b[49m\u001b[43merr_str\u001b[49m\u001b[43m)\u001b[49m\n",
      "File \u001b[1;32mc:\\Users\\rs1044\\Documents\\GitHub\\Federated-Reinforcement-Learning-for-Battery-Charging\\.venv\\lib\\site-packages\\gin\\utils.py:41\u001b[0m, in \u001b[0;36maugment_exception_message_and_reraise\u001b[1;34m(exception, message)\u001b[0m\n\u001b[0;32m     39\u001b[0m proxy \u001b[38;5;241m=\u001b[39m ExceptionProxy()\n\u001b[0;32m     40\u001b[0m ExceptionProxy\u001b[38;5;241m.\u001b[39m\u001b[38;5;18m__qualname__\u001b[39m \u001b[38;5;241m=\u001b[39m \u001b[38;5;28mtype\u001b[39m(exception)\u001b[38;5;241m.\u001b[39m\u001b[38;5;18m__qualname__\u001b[39m\n\u001b[1;32m---> 41\u001b[0m \u001b[38;5;28;01mraise\u001b[39;00m proxy\u001b[38;5;241m.\u001b[39mwith_traceback(exception\u001b[38;5;241m.\u001b[39m__traceback__) \u001b[38;5;28;01mfrom\u001b[39;00m \u001b[38;5;28;01mNone\u001b[39;00m\n",
      "File \u001b[1;32mc:\\Users\\rs1044\\Documents\\GitHub\\Federated-Reinforcement-Learning-for-Battery-Charging\\.venv\\lib\\site-packages\\gin\\config.py:1582\u001b[0m, in \u001b[0;36m_make_gin_wrapper.<locals>.gin_wrapper\u001b[1;34m(*args, **kwargs)\u001b[0m\n\u001b[0;32m   1579\u001b[0m new_kwargs\u001b[38;5;241m.\u001b[39mupdate(kwargs)\n\u001b[0;32m   1581\u001b[0m \u001b[38;5;28;01mtry\u001b[39;00m:\n\u001b[1;32m-> 1582\u001b[0m   \u001b[38;5;28;01mreturn\u001b[39;00m fn(\u001b[38;5;241m*\u001b[39mnew_args, \u001b[38;5;241m*\u001b[39m\u001b[38;5;241m*\u001b[39mnew_kwargs)\n\u001b[0;32m   1583\u001b[0m \u001b[38;5;28;01mexcept\u001b[39;00m \u001b[38;5;167;01mException\u001b[39;00m \u001b[38;5;28;01mas\u001b[39;00m e:  \u001b[38;5;66;03m# pylint: disable=broad-except\u001b[39;00m\n\u001b[0;32m   1584\u001b[0m   err_str \u001b[38;5;241m=\u001b[39m \u001b[38;5;124m'\u001b[39m\u001b[38;5;124m'\u001b[39m\n",
      "File \u001b[1;32mc:\\Users\\rs1044\\Documents\\GitHub\\Federated-Reinforcement-Learning-for-Battery-Charging\\.venv\\lib\\site-packages\\tf_agents\\eval\\metric_utils.py:113\u001b[0m, in \u001b[0;36mcompute_summaries\u001b[1;34m(metrics, environment, policy, num_episodes, global_step, tf_summaries, log, callback)\u001b[0m\n\u001b[0;32m    111\u001b[0m results \u001b[38;5;241m=\u001b[39m compute(metrics, environment, policy, num_episodes)\n\u001b[0;32m    112\u001b[0m \u001b[38;5;28;01mif\u001b[39;00m tf_summaries:\n\u001b[1;32m--> 113\u001b[0m   \u001b[43mpy_metric\u001b[49m\u001b[38;5;241;43m.\u001b[39;49m\u001b[43mrun_summaries\u001b[49m\u001b[43m(\u001b[49m\u001b[43mmetrics\u001b[49m\u001b[43m)\u001b[49m\n\u001b[0;32m    114\u001b[0m \u001b[38;5;28;01mif\u001b[39;00m log:\n\u001b[0;32m    115\u001b[0m   log_metrics(metrics, prefix\u001b[38;5;241m=\u001b[39m\u001b[38;5;124m'\u001b[39m\u001b[38;5;124mStep = \u001b[39m\u001b[38;5;132;01m{}\u001b[39;00m\u001b[38;5;124m'\u001b[39m\u001b[38;5;241m.\u001b[39mformat(global_step))\n",
      "File \u001b[1;32mc:\\Users\\rs1044\\Documents\\GitHub\\Federated-Reinforcement-Learning-for-Battery-Charging\\.venv\\lib\\site-packages\\tf_agents\\metrics\\py_metric.py:59\u001b[0m, in \u001b[0;36mrun_summaries\u001b[1;34m(metrics, session)\u001b[0m\n\u001b[0;32m     57\u001b[0m   default_session \u001b[38;5;241m=\u001b[39m tf\u001b[38;5;241m.\u001b[39mcompat\u001b[38;5;241m.\u001b[39mv1\u001b[38;5;241m.\u001b[39mget_default_session()\n\u001b[0;32m     58\u001b[0m   \u001b[38;5;28;01mif\u001b[39;00m default_session \u001b[38;5;129;01mis\u001b[39;00m \u001b[38;5;28;01mNone\u001b[39;00m:\n\u001b[1;32m---> 59\u001b[0m     \u001b[38;5;28;01mraise\u001b[39;00m \u001b[38;5;167;01mAttributeError\u001b[39;00m(\n\u001b[0;32m     60\u001b[0m         \u001b[38;5;124m'\u001b[39m\u001b[38;5;124mNo TensorFlow session-like object was provided, and none \u001b[39m\u001b[38;5;124m'\u001b[39m\n\u001b[0;32m     61\u001b[0m         \u001b[38;5;124m\"\u001b[39m\u001b[38;5;124mcould be retrieved using \u001b[39m\u001b[38;5;124m'\u001b[39m\u001b[38;5;124mtf.get_default_session()\u001b[39m\u001b[38;5;124m'\u001b[39m\u001b[38;5;124m.\u001b[39m\u001b[38;5;124m\"\u001b[39m\n\u001b[0;32m     62\u001b[0m     )\n\u001b[0;32m     63\u001b[0m   session \u001b[38;5;241m=\u001b[39m default_session\n\u001b[0;32m     65\u001b[0m \u001b[38;5;28;01mfor\u001b[39;00m metric \u001b[38;5;129;01min\u001b[39;00m metrics:\n",
      "\u001b[1;31mAttributeError\u001b[0m: No TensorFlow session-like object was provided, and none could be retrieved using 'tf.get_default_session()'.\n  In call to configurable 'compute_summaries' (<function compute_summaries at 0x00000163EB434700>)"
     ]
    }
   ],
   "source": [
    "# Dataset generates trajectories with shape [Bx2x...]\n",
    "# pipeline which will feed data to the agent\n",
    "dataset = replay_buffer.as_dataset(num_parallel_calls=3, sample_batch_size=batch_size, num_steps=2).prefetch(3)\n",
    "iterator = iter(dataset)\n",
    "with tf.compat.v2.summary.record_if(True):\n",
    "    \n",
    "    metric_utils.eager_compute(\n",
    "        eval_metrics,\n",
    "        tf_env_eval,\n",
    "        eval_policy,\n",
    "        num_episodes=num_eval_episodes, #1\n",
    "        train_step=global_step, #\n",
    "        summary_writer=eval_summary_writer,\n",
    "        summary_prefix='Metrics'\n",
    "    )\n",
    "    \n",
    "    # Train and evaluate\n",
    "    while global_step.numpy() <= num_iterations:\n",
    "        \n",
    "        time_step, policy_state = collect_driver.run(time_step=time_step,policy_state=policy_state,)\n",
    "        \n",
    "        experience, _ = next(iterator)\n",
    "        \n",
    "        train_loss = tf_agent.train(experience)\n",
    "        print(\"Train loss: \", train_loss)\n",
    "        print(\"Train loss Numpy: \", train_loss.loss.numpy())\n",
    "        # Log metrics using WandbCallback\n",
    "        logs = {'train_loss': train_loss.loss.numpy()}  # Add more metrics as needed\n",
    "        wandb_callback.on_epoch_end(global_step.numpy(), logs)\n",
    "        \n",
    "        print('step = {0}: Loss = {1}'.format(global_step.numpy(), train_loss.loss))\n",
    "        with eval_summary_writer.as_default():\n",
    "            tf.summary.scalar(name='loss', data=train_loss.loss, step=global_step)\n",
    "        if global_step.numpy() % eval_interval == 0:\n",
    "            train_checkpointer.save(global_step)\n",
    "            metric_utils.eager_compute(\n",
    "                eval_metrics,\n",
    "                tf_env_eval,\n",
    "                eval_policy,\n",
    "                num_episodes=num_eval_episodes,\n",
    "                train_step=global_step,\n",
    "                summary_writer=eval_summary_writer,\n",
    "                summary_prefix='Metrics')\n",
    "            \n",
    "wandb.finish()"
   ]
  },
  {
   "cell_type": "code",
   "execution_count": 14,
   "metadata": {},
   "outputs": [
    {
     "name": "stderr",
     "output_type": "stream",
     "text": [
      "c:\\Users\\rs1044\\Documents\\GitHub\\Federated-Reinforcement-Learning-for-Battery-Charging\\src\\notebooks\\..\\Environment.py:129: FutureWarning: Series.__getitem__ treating keys as positions is deprecated. In a future version, integer keys will always be treated as labels (consistent with DataFrame behavior). To access a value by position, use `ser.iloc[pos]`\n",
      "  load = self._load_data.iloc[self._current_day][self._current_timeslot]\n",
      "c:\\Users\\rs1044\\Documents\\GitHub\\Federated-Reinforcement-Learning-for-Battery-Charging\\src\\notebooks\\..\\Environment.py:130: FutureWarning: Series.__getitem__ treating keys as positions is deprecated. In a future version, integer keys will always be treated as labels (consistent with DataFrame behavior). To access a value by position, use `ser.iloc[pos]`\n",
      "  pv = self._pv_data.iloc[self._current_day][self._current_timeslot]\n",
      "c:\\Users\\rs1044\\Documents\\GitHub\\Federated-Reinforcement-Learning-for-Battery-Charging\\src\\notebooks\\..\\Environment.py:132: FutureWarning: Series.__getitem__ treating keys as positions is deprecated. In a future version, integer keys will always be treated as labels (consistent with DataFrame behavior). To access a value by position, use `ser.iloc[pos]`\n",
      "  self._electricity_prices.iloc[(self._current_day * self._max_timeslots) + self._current_timeslot][0]\n"
     ]
    }
   ],
   "source": [
    "# Test\n",
    "data_test = DL.get_customer_data(DL.loadData('../../data/load1213.csv'),\n",
    "                                         DL.loadPrice('../../data/price.csv'), customer)\n",
    "tf_env_test = tf_py_environment.TFPyEnvironment(Environment.Environment(init_charge=0.0, data=data_test, test=True))\n",
    "time_step_test = tf_env_test.reset()\n",
    "\n",
    "while not time_step_test.is_last():\n",
    "    action_step = tf_agent.policy.action(time_step_test)\n",
    "    time_step_test = tf_env_test.step(action_step.action)"
   ]
  }
 ],
 "metadata": {
  "kernelspec": {
   "display_name": ".venv",
   "language": "python",
   "name": "python3"
  },
  "language_info": {
   "codemirror_mode": {
    "name": "ipython",
    "version": 3
   },
   "file_extension": ".py",
   "mimetype": "text/x-python",
   "name": "python",
   "nbconvert_exporter": "python",
   "pygments_lexer": "ipython3",
   "version": "3.10.0"
  }
 },
 "nbformat": 4,
 "nbformat_minor": 2
}
