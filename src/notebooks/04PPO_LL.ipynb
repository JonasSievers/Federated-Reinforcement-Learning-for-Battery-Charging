{
 "cells": [
  {
   "cell_type": "code",
   "execution_count": 1,
   "metadata": {},
   "outputs": [
    {
     "name": "stdout",
     "output_type": "stream",
     "text": [
      "WARNING:tensorflow:From c:\\Users\\rs1044\\Documents\\GitHub\\Federated-Reinforcement-Learning-for-Battery-Charging\\.venv\\lib\\site-packages\\keras\\src\\losses.py:2976: The name tf.losses.sparse_softmax_cross_entropy is deprecated. Please use tf.compat.v1.losses.sparse_softmax_cross_entropy instead.\n",
      "\n",
      "WARNING:tensorflow:From c:\\Users\\rs1044\\Documents\\GitHub\\Federated-Reinforcement-Learning-for-Battery-Charging\\.venv\\lib\\site-packages\\tensorflow_probability\\python\\internal\\backend\\numpy\\_utils.py:48: The name tf.logging.TaskLevelStatusMessage is deprecated. Please use tf.compat.v1.logging.TaskLevelStatusMessage instead.\n",
      "\n",
      "WARNING:tensorflow:From c:\\Users\\rs1044\\Documents\\GitHub\\Federated-Reinforcement-Learning-for-Battery-Charging\\.venv\\lib\\site-packages\\tensorflow_probability\\python\\internal\\backend\\numpy\\_utils.py:48: The name tf.control_flow_v2_enabled is deprecated. Please use tf.compat.v1.control_flow_v2_enabled instead.\n",
      "\n",
      "WARNING:tensorflow:From c:\\Users\\rs1044\\Documents\\GitHub\\Federated-Reinforcement-Learning-for-Battery-Charging\\.venv\\lib\\site-packages\\tf_agents\\typing\\types.py:114: The name tf.train.Optimizer is deprecated. Please use tf.compat.v1.train.Optimizer instead.\n",
      "\n"
     ]
    }
   ],
   "source": [
    "# Imports\n",
    "import time\n",
    "import os\n",
    "import logging\n",
    "import pandas as pd\n",
    "import wandb\n",
    "import tensorflow as tf\n",
    "\n",
    "logging.getLogger(\"wandb\").setLevel(logging.ERROR)\n",
    "os.environ['WANDB_SILENT'] = 'true'\n",
    "os.environ['WANDB_CONSOLE'] = 'off'\n",
    "\n",
    "import sys\n",
    "sys.path.insert(0, '..')\n",
    "from utils.reinforcementLearningHelper import *"
   ]
  },
  {
   "cell_type": "code",
   "execution_count": 2,
   "metadata": {},
   "outputs": [
    {
     "name": "stdout",
     "output_type": "stream",
     "text": [
      "Batch size: 1 / State Space: 58 / Action Space: 1 / Upper bound: 2.3\n"
     ]
    }
   ],
   "source": [
    "#Setup Environments of selected buildings for training, evaluation, and testing\n",
    "\n",
    "environments, observation_spec, action_spec  = setup_energymanagement_environments2(num_buildings=30, ecoPriority=0, noise_scale=0)\n",
    "\n",
    "#Check environment setup\n",
    "print(\n",
    "    \"Batch size:\", environments[\"train\"][f\"building_1\"].batch_size, \n",
    "    \"/ State Space: {} / Action Space: {}\".format(observation_spec.shape[0], action_spec.shape[0]),\n",
    "    \"/ Upper bound: {}\".format(round(environments[\"train\"][f\"building_1\"].action_spec().maximum.item(), 3)),\n",
    ")"
   ]
  },
  {
   "cell_type": "code",
   "execution_count": 3,
   "metadata": {},
   "outputs": [],
   "source": [
    "# Setup Agent networks\n",
    "SEED = 42\n",
    "tf.random.set_seed(SEED)\n",
    "\n",
    "batch_size = 128\n",
    "replay_buffer_capacity = 20000 \n",
    "initial_collect_steps = 2000\n",
    "collect_steps_per_iteration = 30  \n",
    "num_iterations = 5000  \n",
    "eval_interval = num_iterations - 1\n",
    "\n",
    "num_rounds = 3\n",
    "num_buildings = 30"
   ]
  },
  {
   "cell_type": "code",
   "execution_count": 4,
   "metadata": {},
   "outputs": [],
   "source": [
    "csv_name = \"NEW_LL_PPO_OnlyCosts_v6\""
   ]
  },
  {
   "cell_type": "code",
   "execution_count": 5,
   "metadata": {},
   "outputs": [
    {
     "name": "stdout",
     "output_type": "stream",
     "text": [
      "Building:  1  - round:  0\n",
      "WARNING:tensorflow:From c:\\Users\\rs1044\\Documents\\GitHub\\Federated-Reinforcement-Learning-for-Battery-Charging\\.venv\\lib\\site-packages\\keras\\src\\backend.py:873: The name tf.get_default_graph is deprecated. Please use tf.compat.v1.get_default_graph instead.\n",
      "\n",
      "WARNING:tensorflow:From c:\\Users\\rs1044\\Documents\\GitHub\\Federated-Reinforcement-Learning-for-Battery-Charging\\.venv\\lib\\site-packages\\tensorflow\\python\\autograph\\impl\\api.py:377: ReplayBuffer.get_next (from tf_agents.replay_buffers.replay_buffer) is deprecated and will be removed in a future version.\n",
      "Instructions for updating:\n",
      "Use `as_dataset(..., single_deterministic_pass=False) instead.\n"
     ]
    },
    {
     "name": "stderr",
     "output_type": "stream",
     "text": [
      "c:\\Users\\rs1044\\Documents\\GitHub\\Federated-Reinforcement-Learning-for-Battery-Charging\\src\\notebooks\\..\\utils\\reinforcementLearningHelper.py:443: FutureWarning: The behavior of DataFrame concatenation with empty or all-NA entries is deprecated. In a future version, this will no longer exclude empty or all-NA columns when determining the result dtypes. To retain the old behavior, exclude the relevant entries before the concat operation.\n",
      "  result_df = pd.concat(\n"
     ]
    },
    {
     "name": "stdout",
     "output_type": "stream",
     "text": [
      "Building:  1  - Total Profit:  -1714.5249972017427  - Total Emissions:  9012.980633488682\n",
      "Building:  1  - round:  1\n",
      "Building:  1  - Total Profit:  -1265.6391123403116  - Total Emissions:  6426.408459600721\n",
      "Building:  1  - round:  2\n",
      "Building:  1  - Total Profit:  -1266.1511366278603  - Total Emissions:  6431.124608590856\n",
      "Building:  2  - round:  0\n",
      "Building:  2  - Total Profit:  -1165.7040444699956  - Total Emissions:  4486.300561874969\n",
      "Building:  2  - round:  1\n",
      "WARNING:tensorflow:5 out of the last 5 calls to <function AverageReturnMetric.reset at 0x000001DD41CBF7F0> triggered tf.function retracing. Tracing is expensive and the excessive number of tracings could be due to (1) creating @tf.function repeatedly in a loop, (2) passing tensors with different shapes, (3) passing Python objects instead of tensors. For (1), please define your @tf.function outside of the loop. For (2), @tf.function has reduce_retracing=True option that can avoid unnecessary retracing. For (3), please refer to https://www.tensorflow.org/guide/function#controlling_retracing and https://www.tensorflow.org/api_docs/python/tf/function for  more details.\n",
      "WARNING:tensorflow:5 out of the last 5 calls to <bound method DynamicEpisodeDriver.run of <tf_agents.drivers.dynamic_episode_driver.DynamicEpisodeDriver object at 0x000001DD4485B160>> triggered tf.function retracing. Tracing is expensive and the excessive number of tracings could be due to (1) creating @tf.function repeatedly in a loop, (2) passing tensors with different shapes, (3) passing Python objects instead of tensors. For (1), please define your @tf.function outside of the loop. For (2), @tf.function has reduce_retracing=True option that can avoid unnecessary retracing. For (3), please refer to https://www.tensorflow.org/guide/function#controlling_retracing and https://www.tensorflow.org/api_docs/python/tf/function for  more details.\n",
      "WARNING:tensorflow:5 out of the last 5 calls to <function TFDeque.mean at 0x000001DD58F63F40> triggered tf.function retracing. Tracing is expensive and the excessive number of tracings could be due to (1) creating @tf.function repeatedly in a loop, (2) passing tensors with different shapes, (3) passing Python objects instead of tensors. For (1), please define your @tf.function outside of the loop. For (2), @tf.function has reduce_retracing=True option that can avoid unnecessary retracing. For (3), please refer to https://www.tensorflow.org/guide/function#controlling_retracing and https://www.tensorflow.org/api_docs/python/tf/function for  more details.\n",
      "Building:  2  - Total Profit:  -1165.7040444699956  - Total Emissions:  4486.300561874969\n",
      "Building:  2  - round:  2\n",
      "WARNING:tensorflow:6 out of the last 6 calls to <function AverageReturnMetric.reset at 0x000001DD569276D0> triggered tf.function retracing. Tracing is expensive and the excessive number of tracings could be due to (1) creating @tf.function repeatedly in a loop, (2) passing tensors with different shapes, (3) passing Python objects instead of tensors. For (1), please define your @tf.function outside of the loop. For (2), @tf.function has reduce_retracing=True option that can avoid unnecessary retracing. For (3), please refer to https://www.tensorflow.org/guide/function#controlling_retracing and https://www.tensorflow.org/api_docs/python/tf/function for  more details.\n",
      "WARNING:tensorflow:6 out of the last 6 calls to <bound method DynamicEpisodeDriver.run of <tf_agents.drivers.dynamic_episode_driver.DynamicEpisodeDriver object at 0x000001DD56C6FFA0>> triggered tf.function retracing. Tracing is expensive and the excessive number of tracings could be due to (1) creating @tf.function repeatedly in a loop, (2) passing tensors with different shapes, (3) passing Python objects instead of tensors. For (1), please define your @tf.function outside of the loop. For (2), @tf.function has reduce_retracing=True option that can avoid unnecessary retracing. For (3), please refer to https://www.tensorflow.org/guide/function#controlling_retracing and https://www.tensorflow.org/api_docs/python/tf/function for  more details.\n",
      "WARNING:tensorflow:6 out of the last 6 calls to <function TFDeque.mean at 0x000001DD56AEB9A0> triggered tf.function retracing. Tracing is expensive and the excessive number of tracings could be due to (1) creating @tf.function repeatedly in a loop, (2) passing tensors with different shapes, (3) passing Python objects instead of tensors. For (1), please define your @tf.function outside of the loop. For (2), @tf.function has reduce_retracing=True option that can avoid unnecessary retracing. For (3), please refer to https://www.tensorflow.org/guide/function#controlling_retracing and https://www.tensorflow.org/api_docs/python/tf/function for  more details.\n",
      "Building:  2  - Total Profit:  -1165.7040444699956  - Total Emissions:  4486.300561874969\n",
      "Building:  3  - round:  0\n",
      "Building:  3  - Total Profit:  -354.8583669999963  - Total Emissions:  1719.2886666884938\n",
      "Building:  3  - round:  1\n",
      "Building:  3  - Total Profit:  -354.8583669999963  - Total Emissions:  1719.2886666884938\n",
      "Building:  3  - round:  2\n",
      "Building:  3  - Total Profit:  -354.8583669999963  - Total Emissions:  1719.2886666884938\n",
      "Building:  4  - round:  0\n",
      "Building:  4  - Total Profit:  -982.2749281299997  - Total Emissions:  4075.3946355054195\n",
      "Building:  4  - round:  1\n",
      "Building:  4  - Total Profit:  -982.2749281299997  - Total Emissions:  4075.3946355054195\n",
      "Building:  4  - round:  2\n",
      "Building:  4  - Total Profit:  -982.2749281299997  - Total Emissions:  4075.3946355054195\n",
      "Building:  5  - round:  0\n",
      "Building:  5  - Total Profit:  -1105.1214783000007  - Total Emissions:  4522.542528608434\n",
      "Building:  5  - round:  1\n",
      "Building:  5  - Total Profit:  -1108.4763220721302  - Total Emissions:  4533.4164839757295\n",
      "Building:  5  - round:  2\n",
      "Building:  5  - Total Profit:  -1105.1214783000007  - Total Emissions:  4522.542528608434\n",
      "Building:  6  - round:  0\n",
      "Building:  6  - Total Profit:  -2776.0936872678617  - Total Emissions:  10656.500164067818\n",
      "Building:  6  - round:  1\n",
      "Building:  6  - Total Profit:  -2772.820191156312  - Total Emissions:  10642.69543518832\n",
      "Building:  6  - round:  2\n",
      "Building:  6  - Total Profit:  -2772.8793262699955  - Total Emissions:  10642.88791292505\n",
      "Building:  7  - round:  0\n",
      "Building:  7  - Total Profit:  -793.5300297600002  - Total Emissions:  3916.97349463678\n",
      "Building:  7  - round:  1\n",
      "Building:  7  - Total Profit:  -796.7601868614504  - Total Emissions:  3930.09117735562\n",
      "Building:  7  - round:  2\n",
      "Building:  7  - Total Profit:  -793.5300297600002  - Total Emissions:  3916.97349463678\n",
      "Building:  8  - round:  0\n",
      "Building:  8  - Total Profit:  -2750.9978333000104  - Total Emissions:  9886.498925287273\n",
      "Building:  8  - round:  1\n",
      "Building:  8  - Total Profit:  -2750.9978333000104  - Total Emissions:  9886.498925287273\n",
      "Building:  8  - round:  2\n",
      "Building:  8  - Total Profit:  -2750.9978333000104  - Total Emissions:  9886.498925287273\n",
      "Building:  9  - round:  0\n",
      "Building:  9  - Total Profit:  -871.2714416796973  - Total Emissions:  3770.105550916773\n",
      "Building:  9  - round:  1\n",
      "Building:  9  - Total Profit:  -871.1447585899972  - Total Emissions:  3769.775274463588\n",
      "Building:  9  - round:  2\n",
      "Building:  9  - Total Profit:  -874.3591195878619  - Total Emissions:  3783.3875256063507\n",
      "Building:  10  - round:  0\n",
      "Building:  10  - Total Profit:  -1016.5098907499993  - Total Emissions:  4194.894882949273\n",
      "Building:  10  - round:  1\n",
      "Building:  10  - Total Profit:  -1016.5098907499993  - Total Emissions:  4194.894882949273\n",
      "Building:  10  - round:  2\n",
      "Building:  10  - Total Profit:  -1016.5098907499993  - Total Emissions:  4194.894882949273\n",
      "Building:  11  - round:  0\n",
      "Building:  11  - Total Profit:  -1223.1659506259512  - Total Emissions:  5009.345390433762\n",
      "Building:  11  - round:  1\n",
      "Building:  11  - Total Profit:  -1291.419345922321  - Total Emissions:  5116.525814275914\n",
      "Building:  11  - round:  2\n",
      "Building:  11  - Total Profit:  -1223.2149653435508  - Total Emissions:  5007.380005755443\n",
      "Building:  12  - round:  0\n",
      "Building:  12  - Total Profit:  -1152.8560638759832  - Total Emissions:  4284.868963278782\n",
      "Building:  12  - round:  1\n",
      "Building:  12  - Total Profit:  -1149.302301990008  - Total Emissions:  4273.791287135646\n",
      "Building:  12  - round:  2\n",
      "Building:  12  - Total Profit:  -1152.551800550784  - Total Emissions:  4286.142941530224\n",
      "Building:  13  - round:  0\n",
      "Building:  13  - Total Profit:  -687.2596942499976  - Total Emissions:  3114.9501034876353\n",
      "Building:  13  - round:  1\n",
      "Building:  13  - Total Profit:  -687.2596942499976  - Total Emissions:  3114.9501034876353\n",
      "Building:  13  - round:  2\n",
      "Building:  13  - Total Profit:  -690.7016217520771  - Total Emissions:  3126.4383079800496\n",
      "Building:  14  - round:  0\n",
      "Building:  14  - Total Profit:  -898.3982593378656  - Total Emissions:  3720.293892320801\n",
      "Building:  14  - round:  1\n",
      "Building:  14  - Total Profit:  -900.5769961418458  - Total Emissions:  3716.6600990950446\n",
      "Building:  14  - round:  2\n",
      "Building:  14  - Total Profit:  -898.3982593378656  - Total Emissions:  3720.293892320801\n",
      "Building:  15  - round:  0\n",
      "Building:  15  - Total Profit:  -687.2427510326413  - Total Emissions:  2887.8880497821783\n",
      "Building:  15  - round:  1\n",
      "Building:  15  - Total Profit:  -683.9735966649974  - Total Emissions:  2877.5249842943826\n",
      "Building:  15  - round:  2\n",
      "Building:  15  - Total Profit:  -683.9735966649974  - Total Emissions:  2877.5249842943826\n",
      "Building:  16  - round:  0\n",
      "Building:  16  - Total Profit:  -1252.3911262678714  - Total Emissions:  5229.369213665733\n",
      "Building:  16  - round:  1\n",
      "Building:  16  - Total Profit:  -1249.1767652700064  - Total Emissions:  5215.756962522972\n",
      "Building:  16  - round:  2\n",
      "Building:  16  - Total Profit:  -1249.1767652700064  - Total Emissions:  5215.756962522972\n",
      "Building:  17  - round:  0\n",
      "Building:  17  - Total Profit:  -1842.590061299998  - Total Emissions:  6625.142563719071\n",
      "Building:  17  - round:  1\n",
      "Building:  17  - Total Profit:  -1842.590061299998  - Total Emissions:  6625.142563719071\n",
      "Building:  17  - round:  2\n",
      "Building:  17  - Total Profit:  -1845.9243775120176  - Total Emissions:  6635.861992284316\n",
      "Building:  18  - round:  0\n",
      "Building:  18  - Total Profit:  -1699.472506026065  - Total Emissions:  6837.758165427935\n",
      "Building:  18  - round:  1\n",
      "Building:  18  - Total Profit:  -1699.4632146378597  - Total Emissions:  6839.201185309155\n",
      "Building:  18  - round:  2\n",
      "Building:  18  - Total Profit:  -1999.7996906758149  - Total Emissions:  9105.310239329914\n",
      "Building:  19  - round:  0\n",
      "Building:  19  - Total Profit:  -397.81268174000047  - Total Emissions:  1756.197293219307\n",
      "Building:  19  - round:  1\n",
      "Building:  19  - Total Profit:  -401.02704273786566  - Total Emissions:  1769.809544362069\n",
      "Building:  19  - round:  2\n",
      "Building:  19  - Total Profit:  -397.81268174000047  - Total Emissions:  1756.197293219307\n",
      "Building:  20  - round:  0\n",
      "Building:  20  - Total Profit:  -1511.7187957178708  - Total Emissions:  6004.313054434341\n",
      "Building:  20  - round:  1\n",
      "Building:  20  - Total Profit:  -1636.678846938865  - Total Emissions:  6466.773408602131\n",
      "Building:  20  - round:  2\n",
      "Building:  20  - Total Profit:  -1508.5044347200057  - Total Emissions:  5990.700803291578\n",
      "Building:  21  - round:  0\n",
      "Building:  21  - Total Profit:  -1986.7146270599903  - Total Emissions:  7586.589585307974\n",
      "Building:  21  - round:  1\n",
      "Building:  21  - Total Profit:  -1986.7146270599903  - Total Emissions:  7586.589585307974\n",
      "Building:  21  - round:  2\n",
      "Building:  21  - Total Profit:  -1989.964909387127  - Total Emissions:  7598.90665252658\n",
      "Building:  22  - round:  0\n",
      "Building:  22  - Total Profit:  -838.3832420361191  - Total Emissions:  3210.9650595382873\n",
      "Building:  22  - round:  1\n",
      "Building:  22  - Total Profit:  -837.5311765120051  - Total Emissions:  3197.8855055367544\n",
      "Building:  22  - round:  2\n",
      "Building:  22  - Total Profit:  -826.4282369949927  - Total Emissions:  3164.8398377734165\n",
      "Building:  23  - round:  0\n",
      "Building:  23  - Total Profit:  -1062.4303866278565  - Total Emissions:  3967.2007076414047\n",
      "Building:  23  - round:  1\n",
      "Building:  23  - Total Profit:  -1059.2160256299896  - Total Emissions:  3953.5884564986422\n",
      "Building:  23  - round:  2\n",
      "Building:  23  - Total Profit:  -1059.2160256299896  - Total Emissions:  3953.5884564986422\n",
      "Building:  24  - round:  0\n",
      "Building:  24  - Total Profit:  -591.4125334378652  - Total Emissions:  3640.642377209257\n",
      "Building:  24  - round:  1\n",
      "Building:  24  - Total Profit:  -588.19817244  - Total Emissions:  3627.0301260664946\n",
      "Building:  24  - round:  2\n",
      "Building:  24  - Total Profit:  -607.7929129514775  - Total Emissions:  3731.6476136409883\n",
      "Building:  25  - round:  0\n",
      "Building:  25  - Total Profit:  -1436.2570832300134  - Total Emissions:  5083.0194342700515\n",
      "Building:  25  - round:  1\n",
      "Building:  25  - Total Profit:  -1436.2570832300134  - Total Emissions:  5083.0194342700515\n",
      "Building:  25  - round:  2\n",
      "Building:  25  - Total Profit:  -1439.471444227879  - Total Emissions:  5096.6316854128145\n",
      "Building:  26  - round:  0\n",
      "Building:  26  - Total Profit:  -1829.6717626499917  - Total Emissions:  7159.111595627512\n",
      "Building:  26  - round:  1\n",
      "Building:  26  - Total Profit:  -1829.6717626499917  - Total Emissions:  7159.111595627512\n",
      "Building:  26  - round:  2\n",
      "Building:  26  - Total Profit:  -1832.886123647857  - Total Emissions:  7172.723846770276\n",
      "Building:  27  - round:  0\n",
      "Building:  27  - Total Profit:  -1126.5292601200008  - Total Emissions:  4484.678094109231\n",
      "Building:  27  - round:  1\n",
      "Building:  27  - Total Profit:  -1126.5292601200008  - Total Emissions:  4484.678094109231\n",
      "Building:  27  - round:  2\n",
      "Building:  27  - Total Profit:  -1126.5292601200008  - Total Emissions:  4484.678094109231\n",
      "Building:  28  - round:  0\n",
      "Building:  28  - Total Profit:  -665.4161364049951  - Total Emissions:  2535.9797417103005\n",
      "Building:  28  - round:  1\n",
      "Building:  28  - Total Profit:  -925.4026923908684  - Total Emissions:  3865.3001426545607\n",
      "Building:  28  - round:  2\n",
      "Building:  28  - Total Profit:  -665.4161364049951  - Total Emissions:  2535.9797417103005\n",
      "Building:  29  - round:  0\n",
      "Building:  29  - Total Profit:  -1058.958681950002  - Total Emissions:  4134.349602886443\n",
      "Building:  29  - round:  1\n",
      "Building:  29  - Total Profit:  -1059.634960613749  - Total Emissions:  4138.912086072644\n",
      "Building:  29  - round:  2\n",
      "Building:  29  - Total Profit:  -1065.1477191793097  - Total Emissions:  4154.862861944002\n",
      "Building:  30  - round:  0\n",
      "Building:  30  - Total Profit:  -719.3822283599966  - Total Emissions:  3128.5085813383375\n",
      "Building:  30  - round:  1\n",
      "Building:  30  - Total Profit:  -719.3822283599966  - Total Emissions:  3128.5085813383375\n",
      "Building:  30  - round:  2\n",
      "Building:  30  - Total Profit:  -719.3822283599966  - Total Emissions:  3128.5085813383375\n"
     ]
    }
   ],
   "source": [
    "result_df = pd.DataFrame(columns=['Building', 'Total Profit'])\n",
    "\n",
    "start_time = time.time()\n",
    "\n",
    "for idx in range(num_buildings):\n",
    "    for round in range(num_rounds):\n",
    "        building_index=idx+1\n",
    "        print(\"Building: \", building_index, \" - round: \", round)\n",
    "\n",
    "        #0. Reset global step\n",
    "        tf.compat.v1.reset_default_graph()\n",
    "        global_step = tf.compat.v1.train.get_or_create_global_step()\n",
    "        \n",
    "        #1. Initalize agent\n",
    "        tf_agent, eval_policy, collect_policy = initialize_ppo_agent(observation_spec, action_spec, global_step, environments)\n",
    "\n",
    "        #2. Prepare training pipeline: Setup iterator, replay buffer, driver\n",
    "        iterator, collect_driver, time_step, policy_state = setup_rl_training_pipeline(\n",
    "            tf_agent, environments[\"train\"][f\"building_{building_index}\"], replay_buffer_capacity,collect_policy, \n",
    "            initial_collect_steps, collect_steps_per_iteration, batch_size\n",
    "            )\n",
    "        \n",
    "        #3. Setup wandb logging\n",
    "        artifact = initialize_wandb_logging(name=f\"{csv_name}_Home{building_index}_rd{round}\", num_iterations=num_iterations)\n",
    "\n",
    "        result_df, metrics = agent_training_and_evaluation(global_step, num_iterations, collect_driver, \n",
    "                time_step, policy_state, iterator, tf_agent, eval_policy, building_index, result_df, eval_interval, environments)\n",
    "\n",
    "        #5. End and log wandb\n",
    "        end_and_log_wandb(metrics, artifact)\n",
    "\n",
    "end_time = time.time()\n",
    "time_taken = start_time - end_time"
   ]
  },
  {
   "cell_type": "code",
   "execution_count": 6,
   "metadata": {},
   "outputs": [
    {
     "name": "stdout",
     "output_type": "stream",
     "text": [
      "Final result:  -108458.82136410743\n"
     ]
    }
   ],
   "source": [
    "# Save results\n",
    "result_df['Setup'] = csv_name\n",
    "result_df['Time'] = time_taken\n",
    "result_df.index.name = 'Building_nr'\n",
    "result_df.reset_index(inplace=True, drop=True)\n",
    "os.makedirs('results', exist_ok=True)\n",
    "result_df.to_csv(f'results/{csv_name}.csv', index=False)\n",
    "\n",
    "print(\"Final result: \", result_df[\"Total Profit\"].sum())"
   ]
  },
  {
   "cell_type": "code",
   "execution_count": 7,
   "metadata": {},
   "outputs": [
    {
     "name": "stdout",
     "output_type": "stream",
     "text": [
      "{'ok': True, 'result': {'message_id': 277, 'from': {'id': 7071194232, 'is_bot': True, 'first_name': 'Reinforcement Learning', 'username': 'FederatedRL_Bot'}, 'chat': {'id': 5493937056, 'first_name': 'Jonas', 'last_name': 'Sievers', 'username': 'JonasSievers', 'type': 'private'}, 'date': 1722598479, 'text': 'Script .81 ist fertig!'}}\n"
     ]
    }
   ],
   "source": [
    "import requests\n",
    "\n",
    "def send_telegram_message(bot_token, chat_id, message):\n",
    "    \"\"\"Send a message to a Telegram chat via the Bot API.\"\"\"\n",
    "    url = f\"https://api.telegram.org/bot{bot_token}/sendMessage\"\n",
    "    payload = {\n",
    "        \"chat_id\": chat_id,\n",
    "        \"text\": message,\n",
    "        \"parse_mode\": \"Markdown\"\n",
    "    }\n",
    "    response = requests.post(url, json=payload)\n",
    "    return response.json()\n",
    "\n",
    "# Use the function\n",
    "bot_token = os.getenv('TELEGRAM_BOT_TOKEN') ###\n",
    "chat_id = os.getenv('TELEGRAM_CHAT_ID') ###\n",
    "message = f\"Script .81 ist fertig!\"\n",
    "\n",
    "result = send_telegram_message(bot_token, chat_id, message)\n",
    "print(result)"
   ]
  },
  {
   "cell_type": "code",
   "execution_count": 8,
   "metadata": {},
   "outputs": [
    {
     "data": {
      "text/plain": [
       "-108458.82136410743"
      ]
     },
     "execution_count": 8,
     "metadata": {},
     "output_type": "execute_result"
    }
   ],
   "source": [
    "result_df['Total Profit'].sum()"
   ]
  },
  {
   "cell_type": "code",
   "execution_count": 9,
   "metadata": {},
   "outputs": [
    {
     "data": {
      "text/plain": [
       "136.55890651917312"
      ]
     },
     "execution_count": 9,
     "metadata": {},
     "output_type": "execute_result"
    }
   ],
   "source": [
    "std_dev = result_df.groupby('Building')['Total Emissions'].std().mean()\n",
    "std_dev"
   ]
  }
 ],
 "metadata": {
  "kernelspec": {
   "display_name": ".venv",
   "language": "python",
   "name": "python3"
  },
  "language_info": {
   "codemirror_mode": {
    "name": "ipython",
    "version": 3
   },
   "file_extension": ".py",
   "mimetype": "text/x-python",
   "name": "python",
   "nbconvert_exporter": "python",
   "pygments_lexer": "ipython3",
   "version": "3.10.0"
  }
 },
 "nbformat": 4,
 "nbformat_minor": 2
}
