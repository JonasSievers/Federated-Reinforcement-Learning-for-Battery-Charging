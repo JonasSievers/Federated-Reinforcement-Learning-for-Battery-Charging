{
 "cells": [
  {
   "cell_type": "code",
   "execution_count": 1,
   "metadata": {},
   "outputs": [
    {
     "name": "stdout",
     "output_type": "stream",
     "text": [
      "WARNING:tensorflow:From c:\\Users\\rs1044\\Documents\\GitHub\\Federated-Reinforcement-Learning-for-Battery-Charging\\.venv\\lib\\site-packages\\keras\\src\\losses.py:2976: The name tf.losses.sparse_softmax_cross_entropy is deprecated. Please use tf.compat.v1.losses.sparse_softmax_cross_entropy instead.\n",
      "\n",
      "WARNING:tensorflow:From c:\\Users\\rs1044\\Documents\\GitHub\\Federated-Reinforcement-Learning-for-Battery-Charging\\.venv\\lib\\site-packages\\tensorflow_probability\\python\\internal\\backend\\numpy\\_utils.py:48: The name tf.logging.TaskLevelStatusMessage is deprecated. Please use tf.compat.v1.logging.TaskLevelStatusMessage instead.\n",
      "\n",
      "WARNING:tensorflow:From c:\\Users\\rs1044\\Documents\\GitHub\\Federated-Reinforcement-Learning-for-Battery-Charging\\.venv\\lib\\site-packages\\tensorflow_probability\\python\\internal\\backend\\numpy\\_utils.py:48: The name tf.control_flow_v2_enabled is deprecated. Please use tf.compat.v1.control_flow_v2_enabled instead.\n",
      "\n",
      "WARNING:tensorflow:From c:\\Users\\rs1044\\Documents\\GitHub\\Federated-Reinforcement-Learning-for-Battery-Charging\\.venv\\lib\\site-packages\\tf_agents\\typing\\types.py:114: The name tf.train.Optimizer is deprecated. Please use tf.compat.v1.train.Optimizer instead.\n",
      "\n"
     ]
    }
   ],
   "source": [
    "# Imports\n",
    "import time\n",
    "import os\n",
    "import pandas as pd\n",
    "import tensorflow as tf\n",
    "\n",
    "import sys\n",
    "sys.path.insert(0, '..')\n",
    "from utils.reinforcementLearningHelper import *"
   ]
  },
  {
   "cell_type": "code",
   "execution_count": 2,
   "metadata": {},
   "outputs": [
    {
     "name": "stdout",
     "output_type": "stream",
     "text": [
      "Batch size: 1 / State Space: 148 / Action Space: 1 / Upper bound: 2.3\n"
     ]
    }
   ],
   "source": [
    "#Setup Environments of selected buildings for training, evaluation, and testing\n",
    "\n",
    "environments, observation_spec, action_spec  = setup_energymanagement_environments2(num_buildings=30, ecoPriority=1, noise_scale=0)\n",
    "\n",
    "#Check environment setup\n",
    "print(\n",
    "    \"Batch size:\", environments[\"train\"][f\"building_1\"].batch_size, \n",
    "    \"/ State Space: {} / Action Space: {}\".format(observation_spec.shape[0], action_spec.shape[0]),\n",
    "    \"/ Upper bound: {}\".format(round(environments[\"train\"][f\"building_1\"].action_spec().maximum.item(), 3)),\n",
    ")"
   ]
  },
  {
   "cell_type": "code",
   "execution_count": 3,
   "metadata": {},
   "outputs": [],
   "source": [
    "# Setup Agent networks\n",
    "SEED = 42\n",
    "tf.random.set_seed(SEED)\n",
    "\n",
    "batch_size = 128\n",
    "replay_buffer_capacity = 20000 \n",
    "initial_collect_steps = 2000\n",
    "collect_steps_per_iteration = 30 \n",
    "num_iterations = 5000 \n",
    "eval_interval = num_iterations-1\n",
    "\n",
    "num_rounds = 3\n",
    "num_buildings = 30"
   ]
  },
  {
   "cell_type": "code",
   "execution_count": 4,
   "metadata": {},
   "outputs": [],
   "source": [
    "csv_name = \"NEW_LL_TD3_OnlyEmissions_v2\""
   ]
  },
  {
   "cell_type": "code",
   "execution_count": 5,
   "metadata": {},
   "outputs": [
    {
     "name": "stdout",
     "output_type": "stream",
     "text": [
      "Building:  1  - round:  0\n",
      "WARNING:tensorflow:From c:\\Users\\rs1044\\Documents\\GitHub\\Federated-Reinforcement-Learning-for-Battery-Charging\\.venv\\lib\\site-packages\\keras\\src\\backend.py:873: The name tf.get_default_graph is deprecated. Please use tf.compat.v1.get_default_graph instead.\n",
      "\n",
      "WARNING:tensorflow:From c:\\Users\\rs1044\\Documents\\GitHub\\Federated-Reinforcement-Learning-for-Battery-Charging\\.venv\\lib\\site-packages\\tensorflow\\python\\autograph\\impl\\api.py:377: ReplayBuffer.get_next (from tf_agents.replay_buffers.replay_buffer) is deprecated and will be removed in a future version.\n",
      "Instructions for updating:\n",
      "Use `as_dataset(..., single_deterministic_pass=False) instead.\n"
     ]
    },
    {
     "name": "stderr",
     "output_type": "stream",
     "text": [
      "c:\\Users\\rs1044\\Documents\\GitHub\\Federated-Reinforcement-Learning-for-Battery-Charging\\src\\notebooks\\..\\utils\\reinforcementLearningHelper.py:443: FutureWarning: The behavior of DataFrame concatenation with empty or all-NA entries is deprecated. In a future version, this will no longer exclude empty or all-NA columns when determining the result dtypes. To retain the old behavior, exclude the relevant entries before the concat operation.\n",
      "  result_df = pd.concat(\n"
     ]
    },
    {
     "name": "stdout",
     "output_type": "stream",
     "text": [
      "Building:  1  - Total Profit:  -834.9018880246663  - Total Emissions:  3508.9990993358488\n",
      "Building:  1  - round:  1\n",
      "Building:  1  - Total Profit:  -840.2593058538055  - Total Emissions:  3631.441161703713\n",
      "Building:  1  - round:  2\n",
      "WARNING:tensorflow:5 out of the last 5 calls to <function AverageReturnMetric.reset at 0x00000187F8A3E170> triggered tf.function retracing. Tracing is expensive and the excessive number of tracings could be due to (1) creating @tf.function repeatedly in a loop, (2) passing tensors with different shapes, (3) passing Python objects instead of tensors. For (1), please define your @tf.function outside of the loop. For (2), @tf.function has reduce_retracing=True option that can avoid unnecessary retracing. For (3), please refer to https://www.tensorflow.org/guide/function#controlling_retracing and https://www.tensorflow.org/api_docs/python/tf/function for  more details.\n",
      "WARNING:tensorflow:5 out of the last 5 calls to <bound method DynamicEpisodeDriver.run of <tf_agents.drivers.dynamic_episode_driver.DynamicEpisodeDriver object at 0x00000187F89BBDF0>> triggered tf.function retracing. Tracing is expensive and the excessive number of tracings could be due to (1) creating @tf.function repeatedly in a loop, (2) passing tensors with different shapes, (3) passing Python objects instead of tensors. For (1), please define your @tf.function outside of the loop. For (2), @tf.function has reduce_retracing=True option that can avoid unnecessary retracing. For (3), please refer to https://www.tensorflow.org/guide/function#controlling_retracing and https://www.tensorflow.org/api_docs/python/tf/function for  more details.\n",
      "WARNING:tensorflow:5 out of the last 5 calls to <function TFDeque.mean at 0x00000187F8A31FC0> triggered tf.function retracing. Tracing is expensive and the excessive number of tracings could be due to (1) creating @tf.function repeatedly in a loop, (2) passing tensors with different shapes, (3) passing Python objects instead of tensors. For (1), please define your @tf.function outside of the loop. For (2), @tf.function has reduce_retracing=True option that can avoid unnecessary retracing. For (3), please refer to https://www.tensorflow.org/guide/function#controlling_retracing and https://www.tensorflow.org/api_docs/python/tf/function for  more details.\n",
      "WARNING:tensorflow:6 out of the last 6 calls to <function AverageReturnMetric.reset at 0x00000187F8A31EA0> triggered tf.function retracing. Tracing is expensive and the excessive number of tracings could be due to (1) creating @tf.function repeatedly in a loop, (2) passing tensors with different shapes, (3) passing Python objects instead of tensors. For (1), please define your @tf.function outside of the loop. For (2), @tf.function has reduce_retracing=True option that can avoid unnecessary retracing. For (3), please refer to https://www.tensorflow.org/guide/function#controlling_retracing and https://www.tensorflow.org/api_docs/python/tf/function for  more details.\n",
      "WARNING:tensorflow:6 out of the last 6 calls to <bound method DynamicEpisodeDriver.run of <tf_agents.drivers.dynamic_episode_driver.DynamicEpisodeDriver object at 0x00000187FC7E7490>> triggered tf.function retracing. Tracing is expensive and the excessive number of tracings could be due to (1) creating @tf.function repeatedly in a loop, (2) passing tensors with different shapes, (3) passing Python objects instead of tensors. For (1), please define your @tf.function outside of the loop. For (2), @tf.function has reduce_retracing=True option that can avoid unnecessary retracing. For (3), please refer to https://www.tensorflow.org/guide/function#controlling_retracing and https://www.tensorflow.org/api_docs/python/tf/function for  more details.\n",
      "WARNING:tensorflow:6 out of the last 6 calls to <function TFDeque.mean at 0x00000187F8A327A0> triggered tf.function retracing. Tracing is expensive and the excessive number of tracings could be due to (1) creating @tf.function repeatedly in a loop, (2) passing tensors with different shapes, (3) passing Python objects instead of tensors. For (1), please define your @tf.function outside of the loop. For (2), @tf.function has reduce_retracing=True option that can avoid unnecessary retracing. For (3), please refer to https://www.tensorflow.org/guide/function#controlling_retracing and https://www.tensorflow.org/api_docs/python/tf/function for  more details.\n",
      "Building:  1  - Total Profit:  -860.1634951564255  - Total Emissions:  3751.524440377319\n",
      "Building:  2  - round:  0\n",
      "Building:  2  - Total Profit:  -1096.3584421209496  - Total Emissions:  3771.2460698996656\n",
      "Building:  2  - round:  1\n",
      "Building:  2  - Total Profit:  -1105.1402701920922  - Total Emissions:  3888.8070221550665\n",
      "Building:  2  - round:  2\n",
      "Building:  2  - Total Profit:  -1121.2049812409352  - Total Emissions:  3751.8875137997597\n",
      "Building:  3  - round:  0\n",
      "Building:  3  - Total Profit:  -261.9371245694267  - Total Emissions:  990.1493207380319\n",
      "Building:  3  - round:  1\n",
      "Building:  3  - Total Profit:  -274.5918280842463  - Total Emissions:  1087.8216487589737\n",
      "Building:  3  - round:  2\n",
      "Building:  3  - Total Profit:  -261.9503431605074  - Total Emissions:  985.1933015521183\n",
      "Building:  4  - round:  0\n",
      "Building:  4  - Total Profit:  -928.1438969736565  - Total Emissions:  3548.587054844631\n",
      "Building:  4  - round:  1\n",
      "Building:  4  - Total Profit:  -931.9712929649913  - Total Emissions:  3509.1312143285927\n",
      "Building:  4  - round:  2\n",
      "Building:  4  - Total Profit:  -915.9269760371616  - Total Emissions:  3294.8648009154113\n",
      "Building:  5  - round:  0\n",
      "Building:  5  - Total Profit:  -1061.5789497425183  - Total Emissions:  3693.947619763532\n",
      "Building:  5  - round:  1\n",
      "Building:  5  - Total Profit:  -1041.5656744777075  - Total Emissions:  3635.4391915573137\n",
      "Building:  5  - round:  2\n",
      "Building:  5  - Total Profit:  -1048.7666362869807  - Total Emissions:  3855.463061296396\n",
      "Building:  6  - round:  0\n",
      "Building:  6  - Total Profit:  -2718.765579920691  - Total Emissions:  9365.591046338097\n",
      "Building:  6  - round:  1\n",
      "Building:  6  - Total Profit:  -2715.22468289278  - Total Emissions:  9828.606458354756\n",
      "Building:  6  - round:  2\n",
      "Building:  6  - Total Profit:  -2718.4142245708294  - Total Emissions:  9282.78561203682\n",
      "Building:  7  - round:  0\n",
      "Building:  7  - Total Profit:  -518.6518118322903  - Total Emissions:  2002.3200256772188\n",
      "Building:  7  - round:  1\n",
      "Building:  7  - Total Profit:  -548.1712975077952  - Total Emissions:  2080.8364798679577\n",
      "Building:  7  - round:  2\n",
      "Building:  7  - Total Profit:  -519.924806485478  - Total Emissions:  1960.2029966850366\n",
      "Building:  8  - round:  0\n",
      "Building:  8  - Total Profit:  -2743.2202764021863  - Total Emissions:  8878.109781597655\n",
      "Building:  8  - round:  1\n",
      "Building:  8  - Total Profit:  -2754.1715736570513  - Total Emissions:  9730.618953008463\n",
      "Building:  8  - round:  2\n",
      "Building:  8  - Total Profit:  -2738.882912154236  - Total Emissions:  9351.202531970075\n",
      "Building:  9  - round:  0\n",
      "Building:  9  - Total Profit:  -732.2817914565683  - Total Emissions:  2695.5802745886303\n",
      "Building:  9  - round:  1\n",
      "Building:  9  - Total Profit:  -758.6330760409113  - Total Emissions:  2951.2688146159503\n",
      "Building:  9  - round:  2\n",
      "Building:  9  - Total Profit:  -755.8595581783936  - Total Emissions:  2905.2584013305764\n",
      "Building:  10  - round:  0\n",
      "Building:  10  - Total Profit:  -916.2320571772545  - Total Emissions:  3126.0584687986593\n",
      "Building:  10  - round:  1\n",
      "Building:  10  - Total Profit:  -940.1102355259108  - Total Emissions:  3302.274912008986\n",
      "Building:  10  - round:  2\n",
      "Building:  10  - Total Profit:  -936.9852608325378  - Total Emissions:  3335.202638438987\n",
      "Building:  11  - round:  0\n",
      "Building:  11  - Total Profit:  -1052.846941562978  - Total Emissions:  3390.47630428402\n",
      "Building:  11  - round:  1\n",
      "Building:  11  - Total Profit:  -1060.743345940359  - Total Emissions:  3312.382132758282\n",
      "Building:  11  - round:  2\n",
      "Building:  11  - Total Profit:  -1069.8634794180957  - Total Emissions:  3459.9435037496146\n",
      "Building:  12  - round:  0\n",
      "Building:  12  - Total Profit:  -1127.7003534818102  - Total Emissions:  3703.2448487636448\n",
      "Building:  12  - round:  1\n",
      "Building:  12  - Total Profit:  -1131.2646585979371  - Total Emissions:  3709.2536286910404\n",
      "Building:  12  - round:  2\n",
      "Building:  12  - Total Profit:  -1127.0110294403903  - Total Emissions:  3738.9840172357626\n",
      "Building:  13  - round:  0\n",
      "Building:  13  - Total Profit:  -481.7863841062656  - Total Emissions:  1756.3262722975473\n",
      "Building:  13  - round:  1\n",
      "Building:  13  - Total Profit:  -462.5734026408829  - Total Emissions:  1656.8311454651682\n",
      "Building:  13  - round:  2\n",
      "Building:  13  - Total Profit:  -476.0390046416527  - Total Emissions:  1641.2059124405591\n",
      "Building:  14  - round:  0\n",
      "Building:  14  - Total Profit:  -760.7201926870894  - Total Emissions:  2651.891193608521\n",
      "Building:  14  - round:  1\n",
      "Building:  14  - Total Profit:  -758.416208151753  - Total Emissions:  2685.3316648616424\n",
      "Building:  14  - round:  2\n",
      "Building:  14  - Total Profit:  -756.9945296392691  - Total Emissions:  2731.795600750698\n",
      "Building:  15  - round:  0\n",
      "Building:  15  - Total Profit:  -599.8402772218004  - Total Emissions:  2312.5496034229723\n",
      "Building:  15  - round:  1\n",
      "Building:  15  - Total Profit:  -606.1164264830525  - Total Emissions:  2273.044191013465\n",
      "Building:  15  - round:  2\n",
      "Building:  15  - Total Profit:  -598.7724035262167  - Total Emissions:  2252.226135290731\n",
      "Building:  16  - round:  0\n",
      "Building:  16  - Total Profit:  -1079.6673274760217  - Total Emissions:  3948.181102203516\n",
      "Building:  16  - round:  1\n",
      "Building:  16  - Total Profit:  -1048.0773389003207  - Total Emissions:  3636.656454685839\n",
      "Building:  16  - round:  2\n",
      "Building:  16  - Total Profit:  -1014.6920237130925  - Total Emissions:  3547.753695173791\n",
      "Building:  17  - round:  0\n",
      "Building:  17  - Total Profit:  -1787.4382444434457  - Total Emissions:  5870.178493554353\n",
      "Building:  17  - round:  1\n",
      "Building:  17  - Total Profit:  -1796.5485470470417  - Total Emissions:  5859.806824147773\n",
      "Building:  17  - round:  2\n",
      "Building:  17  - Total Profit:  -1839.7520103549307  - Total Emissions:  6373.097368470266\n",
      "Building:  18  - round:  0\n",
      "Building:  18  - Total Profit:  -1560.2239152254094  - Total Emissions:  5493.650386885321\n",
      "Building:  18  - round:  1\n",
      "Building:  18  - Total Profit:  -1567.9101117695097  - Total Emissions:  5325.916442669634\n",
      "Building:  18  - round:  2\n",
      "Building:  18  - Total Profit:  -1569.2579177315881  - Total Emissions:  5645.5076507045105\n",
      "Building:  19  - round:  0\n",
      "Building:  19  - Total Profit:  -306.2480717268236  - Total Emissions:  1080.3757392598745\n",
      "Building:  19  - round:  1\n",
      "Building:  19  - Total Profit:  -306.70327585668315  - Total Emissions:  1084.4236478016792\n",
      "Building:  19  - round:  2\n",
      "Building:  19  - Total Profit:  -320.7840597299913  - Total Emissions:  1190.8553223888075\n",
      "Building:  20  - round:  0\n",
      "Building:  20  - Total Profit:  -1383.9705890983334  - Total Emissions:  5022.979725925118\n",
      "Building:  20  - round:  1\n",
      "Building:  20  - Total Profit:  -1374.8525328812013  - Total Emissions:  5099.587065472815\n",
      "Building:  20  - round:  2\n",
      "Building:  20  - Total Profit:  -1387.7440427834968  - Total Emissions:  5049.430024259912\n",
      "Building:  21  - round:  0\n",
      "Building:  21  - Total Profit:  -1957.6976606538053  - Total Emissions:  7341.088094147459\n",
      "Building:  21  - round:  1\n",
      "Building:  21  - Total Profit:  -1987.669273646242  - Total Emissions:  6568.417080365128\n",
      "Building:  21  - round:  2\n",
      "Building:  21  - Total Profit:  -1962.605783986489  - Total Emissions:  7031.51650734204\n",
      "Building:  22  - round:  0\n",
      "Building:  22  - Total Profit:  -777.3170349410906  - Total Emissions:  2734.5329272797076\n",
      "Building:  22  - round:  1\n",
      "Building:  22  - Total Profit:  -773.1732276844411  - Total Emissions:  2556.833764363833\n",
      "Building:  22  - round:  2\n",
      "Building:  22  - Total Profit:  -771.9612818931433  - Total Emissions:  2682.771451337013\n",
      "Building:  23  - round:  0\n",
      "Building:  23  - Total Profit:  -937.2750186548478  - Total Emissions:  3030.3613220148136\n",
      "Building:  23  - round:  1\n",
      "Building:  23  - Total Profit:  -943.7886530567052  - Total Emissions:  3109.337478878774\n",
      "Building:  23  - round:  2\n",
      "Building:  23  - Total Profit:  -972.9977070987447  - Total Emissions:  3385.5418781388616\n",
      "Building:  24  - round:  0\n",
      "Building:  24  - Total Profit:  -291.5585423391307  - Total Emissions:  1743.7484471117168\n",
      "Building:  24  - round:  1\n",
      "Building:  24  - Total Profit:  -334.9801971910477  - Total Emissions:  1928.709067150086\n",
      "Building:  24  - round:  2\n",
      "Building:  24  - Total Profit:  -297.8106427201065  - Total Emissions:  1681.31132534732\n",
      "Building:  25  - round:  0\n",
      "Building:  25  - Total Profit:  -1367.0170371921547  - Total Emissions:  4400.720505774909\n",
      "Building:  25  - round:  1\n",
      "Building:  25  - Total Profit:  -1391.39874108763  - Total Emissions:  4180.999529448045\n",
      "Building:  25  - round:  2\n",
      "Building:  25  - Total Profit:  -1370.695373295076  - Total Emissions:  4224.641430980761\n",
      "Building:  26  - round:  0\n",
      "Building:  26  - Total Profit:  -1778.4924847579907  - Total Emissions:  6335.638339973787\n",
      "Building:  26  - round:  1\n",
      "Building:  26  - Total Profit:  -1791.6950736340382  - Total Emissions:  6209.372999440328\n",
      "Building:  26  - round:  2\n",
      "Building:  26  - Total Profit:  -1784.665046181519  - Total Emissions:  6309.0417932085975\n",
      "Building:  27  - round:  0\n",
      "Building:  27  - Total Profit:  -1055.706176214047  - Total Emissions:  3428.8630766316896\n",
      "Building:  27  - round:  1\n",
      "Building:  27  - Total Profit:  -1067.3455458096482  - Total Emissions:  3181.054103512309\n",
      "Building:  27  - round:  2\n",
      "Building:  27  - Total Profit:  -1057.8404252848802  - Total Emissions:  3270.4723702369943\n",
      "Building:  28  - round:  0\n",
      "Building:  28  - Total Profit:  -622.9601767470914  - Total Emissions:  2031.3947233861554\n",
      "Building:  28  - round:  1\n",
      "Building:  28  - Total Profit:  -626.7467599834001  - Total Emissions:  2171.311642624367\n",
      "Building:  28  - round:  2\n",
      "Building:  28  - Total Profit:  -624.5008825290391  - Total Emissions:  2010.527100981067\n",
      "Building:  29  - round:  0\n",
      "Building:  29  - Total Profit:  -925.2795186917252  - Total Emissions:  2901.421971518869\n",
      "Building:  29  - round:  1\n",
      "Building:  29  - Total Profit:  -913.2525842208321  - Total Emissions:  2986.163519404431\n",
      "Building:  29  - round:  2\n",
      "Building:  29  - Total Profit:  -922.4573532959097  - Total Emissions:  3213.422803927165\n",
      "Building:  30  - round:  0\n",
      "Building:  30  - Total Profit:  -600.5873671209863  - Total Emissions:  2046.3958895842754\n",
      "Building:  30  - round:  1\n",
      "Building:  30  - Total Profit:  -593.8860042000296  - Total Emissions:  2053.065152977011\n",
      "Building:  30  - round:  2\n",
      "Building:  30  - Total Profit:  -603.175942203162  - Total Emissions:  2360.67747730851\n"
     ]
    }
   ],
   "source": [
    "# LOCAL LEARNING\n",
    "\n",
    "result_df = pd.DataFrame(columns=['Building', 'Total Profit'])\n",
    "\n",
    "start_time = time.time()\n",
    "\n",
    "for idx in range(num_buildings):\n",
    "    for round in range(num_rounds):\n",
    "        building_index=idx+1\n",
    "        print(\"Building: \", building_index, \" - round: \", round)\n",
    "        #0. Reset global step\n",
    "        tf.compat.v1.reset_default_graph()\n",
    "        global_step = tf.compat.v1.train.get_or_create_global_step()\n",
    "        \n",
    "        #1. Initalize agent\n",
    "        tf_agent, eval_policy, collect_policy = initialize_td3_agent(observation_spec, action_spec, global_step, environments)\n",
    "\n",
    "        #2. Prepare training pipeline: Setup iterator, replay buffer, driver\n",
    "        iterator, collect_driver, time_step, policy_state = setup_rl_training_pipeline(\n",
    "            tf_agent, environments[\"train\"][f\"building_{building_index}\"], replay_buffer_capacity,collect_policy, \n",
    "            initial_collect_steps, collect_steps_per_iteration, batch_size\n",
    "            )\n",
    "\n",
    "        #3. Setup wandb logging\n",
    "        artifact = initialize_wandb_logging(name=f\"{csv_name}_Home{building_index}_rd{round}\", num_iterations=num_iterations)\n",
    "\n",
    "        #4. Train, evaluate agent and store weights\n",
    "        result_df, metrics = agent_training_and_evaluation(global_step, num_iterations, collect_driver, \n",
    "                time_step, policy_state, iterator, tf_agent, eval_policy, building_index, result_df, eval_interval, environments)\n",
    "            \n",
    "        #6. End and log wandb\n",
    "        end_and_log_wandb(metrics, artifact)\n",
    "\n",
    "end_time = time.time()\n",
    "time_taken = end_time - start_time"
   ]
  },
  {
   "cell_type": "code",
   "execution_count": 6,
   "metadata": {},
   "outputs": [
    {
     "name": "stdout",
     "output_type": "stream",
     "text": [
      "Final reuslt:  -97121.08641211338 Time:  0     14958.801133\n",
      "1     14958.801133\n",
      "2     14958.801133\n",
      "3     14958.801133\n",
      "4     14958.801133\n",
      "          ...     \n",
      "85    14958.801133\n",
      "86    14958.801133\n",
      "87    14958.801133\n",
      "88    14958.801133\n",
      "89    14958.801133\n",
      "Name: Time, Length: 90, dtype: float64\n"
     ]
    }
   ],
   "source": [
    "# Save results\n",
    "result_df.rename(columns={'Total Profit': 'Profit'}, inplace=True)\n",
    "result_df['Setup'] = 'TD3_LL'\n",
    "result_df['Time'] = time_taken\n",
    "result_df.index.name = 'Building_nr'\n",
    "result_df.reset_index(inplace=True, drop=True)\n",
    "os.makedirs('results', exist_ok=True)\n",
    "result_df.to_csv(f'results/TD3_LL_results_Time.csv', index=False)\n",
    "print(\"Final reuslt: \", result_df[\"Profit\"].sum(), \"Time: \", result_df[\"Time\"])"
   ]
  },
  {
   "cell_type": "code",
   "execution_count": 7,
   "metadata": {},
   "outputs": [
    {
     "name": "stdout",
     "output_type": "stream",
     "text": [
      "{'ok': True, 'result': {'message_id': 223, 'from': {'id': 7071194232, 'is_bot': True, 'first_name': 'Reinforcement Learning', 'username': 'FederatedRL_Bot'}, 'chat': {'id': 5493937056, 'first_name': 'Jonas', 'last_name': 'Sievers', 'username': 'JonasSievers', 'type': 'private'}, 'date': 1722016957, 'text': 'Script TD3 LL Time ist fertig at .81!'}}\n"
     ]
    }
   ],
   "source": [
    "import requests\n",
    "\n",
    "def send_telegram_message(bot_token, chat_id, message):\n",
    "    \"\"\"Send a message to a Telegram chat via the Bot API.\"\"\"\n",
    "    url = f\"https://api.telegram.org/bot{bot_token}/sendMessage\"\n",
    "    payload = {\n",
    "        \"chat_id\": chat_id,\n",
    "        \"text\": message,\n",
    "        \"parse_mode\": \"Markdown\"\n",
    "    }\n",
    "    response = requests.post(url, json=payload)\n",
    "    return response.json()\n",
    "\n",
    "# Use the function\n",
    "bot_token = os.getenv('TELEGRAM_BOT_TOKEN')\n",
    "chat_id = os.getenv('TELEGRAM_CHAT_ID')\n",
    "message = f\"Script TD3 LL Time ist fertig at .81!\"\n",
    "\n",
    "result = send_telegram_message(bot_token, chat_id, message)\n",
    "print(result)"
   ]
  },
  {
   "cell_type": "code",
   "execution_count": 8,
   "metadata": {},
   "outputs": [
    {
     "data": {
      "text/plain": [
       "340313.6597889771"
      ]
     },
     "execution_count": 8,
     "metadata": {},
     "output_type": "execute_result"
    }
   ],
   "source": [
    "result_df['Total Emissions'].sum()"
   ]
  },
  {
   "cell_type": "code",
   "execution_count": 9,
   "metadata": {},
   "outputs": [
    {
     "data": {
      "text/plain": [
       "135.2783554085116"
      ]
     },
     "execution_count": 9,
     "metadata": {},
     "output_type": "execute_result"
    }
   ],
   "source": [
    "std_dev = result_df.groupby('Building')['Total Emissions'].std().mean()\n",
    "std_dev"
   ]
  }
 ],
 "metadata": {
  "kernelspec": {
   "display_name": ".venv",
   "language": "python",
   "name": "python3"
  },
  "language_info": {
   "codemirror_mode": {
    "name": "ipython",
    "version": 3
   },
   "file_extension": ".py",
   "mimetype": "text/x-python",
   "name": "python",
   "nbconvert_exporter": "python",
   "pygments_lexer": "ipython3",
   "version": "3.10.0"
  }
 },
 "nbformat": 4,
 "nbformat_minor": 2
}
