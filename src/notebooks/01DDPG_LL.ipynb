{
 "cells": [
  {
   "cell_type": "code",
   "execution_count": 1,
   "metadata": {},
   "outputs": [
    {
     "name": "stdout",
     "output_type": "stream",
     "text": [
      "WARNING:tensorflow:From c:\\Users\\rs1044\\Documents\\GitHub\\Federated-Reinforcement-Learning-for-Battery-Charging\\.venv\\lib\\site-packages\\keras\\src\\losses.py:2976: The name tf.losses.sparse_softmax_cross_entropy is deprecated. Please use tf.compat.v1.losses.sparse_softmax_cross_entropy instead.\n",
      "\n",
      "WARNING:tensorflow:From c:\\Users\\rs1044\\Documents\\GitHub\\Federated-Reinforcement-Learning-for-Battery-Charging\\.venv\\lib\\site-packages\\tensorflow_probability\\python\\internal\\backend\\numpy\\_utils.py:48: The name tf.logging.TaskLevelStatusMessage is deprecated. Please use tf.compat.v1.logging.TaskLevelStatusMessage instead.\n",
      "\n",
      "WARNING:tensorflow:From c:\\Users\\rs1044\\Documents\\GitHub\\Federated-Reinforcement-Learning-for-Battery-Charging\\.venv\\lib\\site-packages\\tensorflow_probability\\python\\internal\\backend\\numpy\\_utils.py:48: The name tf.control_flow_v2_enabled is deprecated. Please use tf.compat.v1.control_flow_v2_enabled instead.\n",
      "\n",
      "WARNING:tensorflow:From c:\\Users\\rs1044\\Documents\\GitHub\\Federated-Reinforcement-Learning-for-Battery-Charging\\.venv\\lib\\site-packages\\tf_agents\\typing\\types.py:114: The name tf.train.Optimizer is deprecated. Please use tf.compat.v1.train.Optimizer instead.\n",
      "\n"
     ]
    }
   ],
   "source": [
    "# Imports\n",
    "import time\n",
    "import os\n",
    "import logging\n",
    "import pandas as pd\n",
    "import wandb\n",
    "import tensorflow as tf\n",
    "\n",
    "logging.getLogger(\"wandb\").setLevel(logging.ERROR)\n",
    "os.environ['WANDB_SILENT'] = 'true'\n",
    "os.environ['WANDB_CONSOLE'] = 'off'\n",
    "\n",
    "import sys\n",
    "sys.path.insert(0, '..')\n",
    "from utils.reinforcementLearningHelper import *"
   ]
  },
  {
   "cell_type": "code",
   "execution_count": 2,
   "metadata": {},
   "outputs": [
    {
     "name": "stdout",
     "output_type": "stream",
     "text": [
      "Batch size: 1 / State Space: 58 / Action Space: 1 / Upper bound: 2.3\n"
     ]
    }
   ],
   "source": [
    "#Setup Environments of selected buildings for training, evaluation, and testing\n",
    "\n",
    "environments, observation_spec, action_spec  = setup_energymanagement_environments2(num_buildings=30, ecoPriority=0, noise_scale=0)\n",
    "\n",
    "#Check environment setup\n",
    "print(\n",
    "    \"Batch size:\", environments[\"train\"][f\"building_1\"].batch_size, \n",
    "    \"/ State Space: {} / Action Space: {}\".format(observation_spec.shape[0], action_spec.shape[0]),\n",
    "    \"/ Upper bound: {}\".format(round(environments[\"train\"][f\"building_1\"].action_spec().maximum.item(), 3)),\n",
    ")"
   ]
  },
  {
   "cell_type": "code",
   "execution_count": 3,
   "metadata": {},
   "outputs": [],
   "source": [
    "# Setup Agent networks\n",
    "SEED = 42\n",
    "tf.random.set_seed(SEED)\n",
    "\n",
    "batch_size = 128\n",
    "replay_buffer_capacity = 20000 \n",
    "initial_collect_steps = 2000\n",
    "collect_steps_per_iteration = 30\n",
    "num_iterations = 5000\n",
    "eval_interval = num_iterations-1\n",
    "\n",
    "num_rounds = 3\n",
    "num_buildings = 30"
   ]
  },
  {
   "cell_type": "code",
   "execution_count": 4,
   "metadata": {},
   "outputs": [],
   "source": [
    "csv_name = \"NEW_LL_DDPG_OnlyCosts_v2\""
   ]
  },
  {
   "cell_type": "code",
   "execution_count": 5,
   "metadata": {},
   "outputs": [
    {
     "name": "stdout",
     "output_type": "stream",
     "text": [
      "Building:  1  - round:  0\n",
      "WARNING:tensorflow:From c:\\Users\\rs1044\\Documents\\GitHub\\Federated-Reinforcement-Learning-for-Battery-Charging\\.venv\\lib\\site-packages\\keras\\src\\backend.py:873: The name tf.get_default_graph is deprecated. Please use tf.compat.v1.get_default_graph instead.\n",
      "\n",
      "WARNING:tensorflow:From c:\\Users\\rs1044\\Documents\\GitHub\\Federated-Reinforcement-Learning-for-Battery-Charging\\.venv\\lib\\site-packages\\tensorflow\\python\\autograph\\impl\\api.py:377: ReplayBuffer.get_next (from tf_agents.replay_buffers.replay_buffer) is deprecated and will be removed in a future version.\n",
      "Instructions for updating:\n",
      "Use `as_dataset(..., single_deterministic_pass=False) instead.\n"
     ]
    },
    {
     "name": "stderr",
     "output_type": "stream",
     "text": [
      "c:\\Users\\rs1044\\Documents\\GitHub\\Federated-Reinforcement-Learning-for-Battery-Charging\\src\\notebooks\\..\\utils\\reinforcementLearningHelper.py:443: FutureWarning: The behavior of DataFrame concatenation with empty or all-NA entries is deprecated. In a future version, this will no longer exclude empty or all-NA columns when determining the result dtypes. To retain the old behavior, exclude the relevant entries before the concat operation.\n",
      "  result_df = pd.concat(\n"
     ]
    },
    {
     "name": "stdout",
     "output_type": "stream",
     "text": [
      "Building:  1  - Total Profit:  -874.7360318159994  - Total Emissions:  3872.8459590915213\n",
      "Building:  1  - round:  1\n",
      "Building:  1  - Total Profit:  -881.7876670708467  - Total Emissions:  4005.418205726451\n",
      "Building:  1  - round:  2\n",
      "WARNING:tensorflow:5 out of the last 5 calls to <function AverageReturnMetric.reset at 0x0000023C0920A200> triggered tf.function retracing. Tracing is expensive and the excessive number of tracings could be due to (1) creating @tf.function repeatedly in a loop, (2) passing tensors with different shapes, (3) passing Python objects instead of tensors. For (1), please define your @tf.function outside of the loop. For (2), @tf.function has reduce_retracing=True option that can avoid unnecessary retracing. For (3), please refer to https://www.tensorflow.org/guide/function#controlling_retracing and https://www.tensorflow.org/api_docs/python/tf/function for  more details.\n",
      "WARNING:tensorflow:5 out of the last 5 calls to <bound method DynamicEpisodeDriver.run of <tf_agents.drivers.dynamic_episode_driver.DynamicEpisodeDriver object at 0x0000023C070A0BB0>> triggered tf.function retracing. Tracing is expensive and the excessive number of tracings could be due to (1) creating @tf.function repeatedly in a loop, (2) passing tensors with different shapes, (3) passing Python objects instead of tensors. For (1), please define your @tf.function outside of the loop. For (2), @tf.function has reduce_retracing=True option that can avoid unnecessary retracing. For (3), please refer to https://www.tensorflow.org/guide/function#controlling_retracing and https://www.tensorflow.org/api_docs/python/tf/function for  more details.\n",
      "WARNING:tensorflow:5 out of the last 5 calls to <function TFDeque.mean at 0x0000023C09208550> triggered tf.function retracing. Tracing is expensive and the excessive number of tracings could be due to (1) creating @tf.function repeatedly in a loop, (2) passing tensors with different shapes, (3) passing Python objects instead of tensors. For (1), please define your @tf.function outside of the loop. For (2), @tf.function has reduce_retracing=True option that can avoid unnecessary retracing. For (3), please refer to https://www.tensorflow.org/guide/function#controlling_retracing and https://www.tensorflow.org/api_docs/python/tf/function for  more details.\n",
      "WARNING:tensorflow:6 out of the last 6 calls to <function AverageReturnMetric.reset at 0x0000023C09208790> triggered tf.function retracing. Tracing is expensive and the excessive number of tracings could be due to (1) creating @tf.function repeatedly in a loop, (2) passing tensors with different shapes, (3) passing Python objects instead of tensors. For (1), please define your @tf.function outside of the loop. For (2), @tf.function has reduce_retracing=True option that can avoid unnecessary retracing. For (3), please refer to https://www.tensorflow.org/guide/function#controlling_retracing and https://www.tensorflow.org/api_docs/python/tf/function for  more details.\n",
      "WARNING:tensorflow:6 out of the last 6 calls to <bound method DynamicEpisodeDriver.run of <tf_agents.drivers.dynamic_episode_driver.DynamicEpisodeDriver object at 0x0000023C07A0B8B0>> triggered tf.function retracing. Tracing is expensive and the excessive number of tracings could be due to (1) creating @tf.function repeatedly in a loop, (2) passing tensors with different shapes, (3) passing Python objects instead of tensors. For (1), please define your @tf.function outside of the loop. For (2), @tf.function has reduce_retracing=True option that can avoid unnecessary retracing. For (3), please refer to https://www.tensorflow.org/guide/function#controlling_retracing and https://www.tensorflow.org/api_docs/python/tf/function for  more details.\n",
      "WARNING:tensorflow:6 out of the last 6 calls to <function TFDeque.mean at 0x0000023C091EF640> triggered tf.function retracing. Tracing is expensive and the excessive number of tracings could be due to (1) creating @tf.function repeatedly in a loop, (2) passing tensors with different shapes, (3) passing Python objects instead of tensors. For (1), please define your @tf.function outside of the loop. For (2), @tf.function has reduce_retracing=True option that can avoid unnecessary retracing. For (3), please refer to https://www.tensorflow.org/guide/function#controlling_retracing and https://www.tensorflow.org/api_docs/python/tf/function for  more details.\n",
      "Building:  1  - Total Profit:  -926.4740154249118  - Total Emissions:  4374.02097948064\n",
      "Building:  2  - round:  0\n",
      "Building:  2  - Total Profit:  -1158.3312876294353  - Total Emissions:  4534.0955954863075\n",
      "Building:  2  - round:  1\n",
      "Building:  2  - Total Profit:  -1157.8395345436609  - Total Emissions:  4531.316343216205\n",
      "Building:  2  - round:  2\n",
      "Building:  2  - Total Profit:  -1150.3819586022817  - Total Emissions:  4475.613996766351\n",
      "Building:  3  - round:  0\n",
      "Building:  3  - Total Profit:  -323.3632051650375  - Total Emissions:  1511.288276630825\n",
      "Building:  3  - round:  1\n",
      "Building:  3  - Total Profit:  -329.5725920480786  - Total Emissions:  1583.7033717651007\n",
      "Building:  3  - round:  2\n",
      "Building:  3  - Total Profit:  -295.75136239972437  - Total Emissions:  1356.7752788459788\n",
      "Building:  4  - round:  0\n",
      "Building:  4  - Total Profit:  -942.0180578272069  - Total Emissions:  3800.993733869599\n",
      "Building:  4  - round:  1\n",
      "Building:  4  - Total Profit:  -927.5645973600215  - Total Emissions:  3718.2005505589186\n",
      "Building:  4  - round:  2\n",
      "Building:  4  - Total Profit:  -965.0012635639788  - Total Emissions:  3964.6760916115873\n",
      "Building:  5  - round:  0\n",
      "Building:  5  - Total Profit:  -1084.5280985630154  - Total Emissions:  4345.871041665901\n",
      "Building:  5  - round:  1\n",
      "Building:  5  - Total Profit:  -1080.8380385631458  - Total Emissions:  4355.971379376669\n",
      "Building:  5  - round:  2\n",
      "Building:  5  - Total Profit:  -1085.6436162703203  - Total Emissions:  4362.037839706731\n",
      "Building:  6  - round:  0\n",
      "Building:  6  - Total Profit:  -2728.4527644024674  - Total Emissions:  10232.924409512878\n",
      "Building:  6  - round:  1\n",
      "Building:  6  - Total Profit:  -2725.2037133833855  - Total Emissions:  10401.550298693837\n",
      "Building:  6  - round:  2\n",
      "Building:  6  - Total Profit:  -2741.058262667085  - Total Emissions:  10653.719804542194\n",
      "Building:  7  - round:  0\n",
      "Building:  7  - Total Profit:  -586.0342411422113  - Total Emissions:  2530.14836502261\n",
      "Building:  7  - round:  1\n",
      "Building:  7  - Total Profit:  -684.0839968204881  - Total Emissions:  3241.523608350577\n",
      "Building:  7  - round:  2\n",
      "Building:  7  - Total Profit:  -596.4169297293379  - Total Emissions:  2712.9334364677247\n",
      "Building:  8  - round:  0\n",
      "Building:  8  - Total Profit:  -2766.2287887013094  - Total Emissions:  10050.789077045703\n",
      "Building:  8  - round:  1\n",
      "Building:  8  - Total Profit:  -2776.959114211425  - Total Emissions:  10115.374658050185\n",
      "Building:  8  - round:  2\n",
      "Building:  8  - Total Profit:  -2745.6539386542113  - Total Emissions:  9897.875831089164\n",
      "Building:  9  - round:  0\n",
      "Building:  9  - Total Profit:  -803.9091595676364  - Total Emissions:  3331.8461049448515\n",
      "Building:  9  - round:  1\n",
      "Building:  9  - Total Profit:  -816.7097749234249  - Total Emissions:  3446.3051411984825\n",
      "Building:  9  - round:  2\n",
      "Building:  9  - Total Profit:  -819.180902006377  - Total Emissions:  3403.4281507253463\n",
      "Building:  10  - round:  0\n",
      "Building:  10  - Total Profit:  -983.4880942810233  - Total Emissions:  3969.5401109908203\n",
      "Building:  10  - round:  1\n",
      "Building:  10  - Total Profit:  -1011.8623277616515  - Total Emissions:  4172.279029092894\n",
      "Building:  10  - round:  2\n",
      "Building:  10  - Total Profit:  -1013.2264425810315  - Total Emissions:  4153.032942470237\n",
      "Building:  11  - round:  0\n",
      "Building:  11  - Total Profit:  -1111.8667670302111  - Total Emissions:  4336.530971907591\n",
      "Building:  11  - round:  1\n",
      "Building:  11  - Total Profit:  -1097.408237431408  - Total Emissions:  4239.78290018282\n",
      "Building:  11  - round:  2\n",
      "Building:  11  - Total Profit:  -1106.5277809039014  - Total Emissions:  4269.477947986454\n",
      "Building:  12  - round:  0\n",
      "Building:  12  - Total Profit:  -1136.8387950544763  - Total Emissions:  4176.708190197091\n",
      "Building:  12  - round:  1\n",
      "Building:  12  - Total Profit:  -1137.6028828490555  - Total Emissions:  4129.5605106011435\n",
      "Building:  12  - round:  2\n",
      "Building:  12  - Total Profit:  -1132.861727229154  - Total Emissions:  4220.467887117918\n",
      "Building:  13  - round:  0\n",
      "Building:  13  - Total Profit:  -515.7544579359566  - Total Emissions:  2105.5879398869724\n",
      "Building:  13  - round:  1\n",
      "Building:  13  - Total Profit:  -529.4757710992469  - Total Emissions:  2183.0477447683006\n",
      "Building:  13  - round:  2\n",
      "Building:  13  - Total Profit:  -533.3631886987714  - Total Emissions:  2147.7674951469785\n",
      "Building:  14  - round:  0\n",
      "Building:  14  - Total Profit:  -778.4897255587922  - Total Emissions:  3000.9988184120557\n",
      "Building:  14  - round:  1\n",
      "Building:  14  - Total Profit:  -786.6354745411084  - Total Emissions:  3056.9000493434273\n",
      "Building:  14  - round:  2\n",
      "Building:  14  - Total Profit:  -774.6144826438754  - Total Emissions:  2854.5212351743494\n",
      "Building:  15  - round:  0\n",
      "Building:  15  - Total Profit:  -623.4710912303811  - Total Emissions:  2554.194141739337\n",
      "Building:  15  - round:  1\n",
      "Building:  15  - Total Profit:  -637.9642354189486  - Total Emissions:  2644.7565678495507\n",
      "Building:  15  - round:  2\n",
      "Building:  15  - Total Profit:  -611.7908436883502  - Total Emissions:  2494.0644303510203\n",
      "Building:  16  - round:  0\n",
      "Building:  16  - Total Profit:  -1107.149789799362  - Total Emissions:  4481.847302309298\n",
      "Building:  16  - round:  1\n",
      "Building:  16  - Total Profit:  -1122.8729093531379  - Total Emissions:  4618.969923364458\n",
      "Building:  16  - round:  2\n",
      "Building:  16  - Total Profit:  -1136.28492443939  - Total Emissions:  4738.9594585808\n",
      "Building:  17  - round:  0\n",
      "Building:  17  - Total Profit:  -1856.9624021970242  - Total Emissions:  6947.4421204810005\n",
      "Building:  17  - round:  1\n",
      "Building:  17  - Total Profit:  -1830.8986778993522  - Total Emissions:  6621.635769077037\n",
      "Building:  17  - round:  2\n",
      "Building:  17  - Total Profit:  -1806.9895410816212  - Total Emissions:  6478.502445161884\n",
      "Building:  18  - round:  0\n",
      "Building:  18  - Total Profit:  -1612.5837909356221  - Total Emissions:  6315.682003156196\n",
      "Building:  18  - round:  1\n",
      "Building:  18  - Total Profit:  -1604.3181048002039  - Total Emissions:  6223.603685671838\n",
      "Building:  18  - round:  2\n",
      "Building:  18  - Total Profit:  -1551.507271666616  - Total Emissions:  5852.169222146947\n",
      "Building:  19  - round:  0\n",
      "Building:  19  - Total Profit:  -321.4385957616642  - Total Emissions:  1284.8213565327565\n",
      "Building:  19  - round:  1\n",
      "Building:  19  - Total Profit:  -319.42463966269975  - Total Emissions:  1260.4497084119193\n",
      "Building:  19  - round:  2\n",
      "Building:  19  - Total Profit:  -347.2626526800857  - Total Emissions:  1481.5130664237117\n",
      "Building:  20  - round:  0\n",
      "Building:  20  - Total Profit:  -1471.0241750666548  - Total Emissions:  5799.997321111836\n",
      "Building:  20  - round:  1\n",
      "Building:  20  - Total Profit:  -1445.9549024460525  - Total Emissions:  5538.9486833007995\n",
      "Building:  20  - round:  2\n",
      "Building:  20  - Total Profit:  -1416.7843041985684  - Total Emissions:  5470.637836453167\n",
      "Building:  21  - round:  0\n",
      "Building:  21  - Total Profit:  -1948.2489085954182  - Total Emissions:  7375.621748207058\n",
      "Building:  21  - round:  1\n",
      "Building:  21  - Total Profit:  -1984.6731985156157  - Total Emissions:  7673.103163309225\n",
      "Building:  21  - round:  2\n",
      "Building:  21  - Total Profit:  -1979.292163950707  - Total Emissions:  7624.39128982395\n",
      "Building:  22  - round:  0\n",
      "Building:  22  - Total Profit:  -781.3258548680421  - Total Emissions:  2933.010322096652\n",
      "Building:  22  - round:  1\n",
      "Building:  22  - Total Profit:  -810.8344516593563  - Total Emissions:  3175.0128265890453\n",
      "Building:  22  - round:  2\n",
      "Building:  22  - Total Profit:  -769.0765933884791  - Total Emissions:  2908.0038992713926\n",
      "Building:  23  - round:  0\n",
      "Building:  23  - Total Profit:  -944.0472407728361  - Total Emissions:  3379.3902795965896\n",
      "Building:  23  - round:  1\n",
      "Building:  23  - Total Profit:  -939.4825512404958  - Total Emissions:  3400.105081857951\n",
      "Building:  23  - round:  2\n",
      "Building:  23  - Total Profit:  -952.6475606541634  - Total Emissions:  3472.8641181897215\n",
      "Building:  24  - round:  0\n",
      "Building:  24  - Total Profit:  -338.9374300143283  - Total Emissions:  2213.2597001081294\n",
      "Building:  24  - round:  1\n",
      "Building:  24  - Total Profit:  -356.74820332949713  - Total Emissions:  2334.0489854109614\n",
      "Building:  24  - round:  2\n",
      "Building:  24  - Total Profit:  -364.60080835084153  - Total Emissions:  2399.3446335290246\n",
      "Building:  25  - round:  0\n",
      "Building:  25  - Total Profit:  -1374.4323333621246  - Total Emissions:  4953.99530118677\n",
      "Building:  25  - round:  1\n",
      "Building:  25  - Total Profit:  -1377.0299477689475  - Total Emissions:  4871.234446980157\n",
      "Building:  25  - round:  2\n",
      "Building:  25  - Total Profit:  -1395.2797588564517  - Total Emissions:  4989.751008150423\n",
      "Building:  26  - round:  0\n",
      "Building:  26  - Total Profit:  -1818.2355841745255  - Total Emissions:  7092.045213140469\n",
      "Building:  26  - round:  1\n",
      "Building:  26  - Total Profit:  -1813.5543122519805  - Total Emissions:  7052.735834613946\n",
      "Building:  26  - round:  2\n",
      "Building:  26  - Total Profit:  -1818.691613931219  - Total Emissions:  7076.938312705592\n",
      "Building:  27  - round:  0\n",
      "Building:  27  - Total Profit:  -1056.2656680607163  - Total Emissions:  3997.8372189548686\n",
      "Building:  27  - round:  1\n",
      "Building:  27  - Total Profit:  -1077.141376811453  - Total Emissions:  4127.83472946604\n",
      "Building:  27  - round:  2\n",
      "Building:  27  - Total Profit:  -1065.5585897560177  - Total Emissions:  4081.8529653438245\n",
      "Building:  28  - round:  0\n",
      "Building:  28  - Total Profit:  -633.9879069591921  - Total Emissions:  2342.708431414221\n",
      "Building:  28  - round:  1\n",
      "Building:  28  - Total Profit:  -632.4161712328043  - Total Emissions:  2352.585579658015\n",
      "Building:  28  - round:  2\n",
      "Building:  28  - Total Profit:  -639.2299930321707  - Total Emissions:  2352.3717265117753\n",
      "Building:  29  - round:  0\n",
      "Building:  29  - Total Profit:  -931.9681136983613  - Total Emissions:  3459.82420407549\n",
      "Building:  29  - round:  1\n",
      "Building:  29  - Total Profit:  -923.0840812469717  - Total Emissions:  3322.2423693938226\n",
      "Building:  29  - round:  2\n",
      "Building:  29  - Total Profit:  -932.3589472124689  - Total Emissions:  3414.991095039793\n",
      "Building:  30  - round:  0\n",
      "Building:  30  - Total Profit:  -703.4814556390602  - Total Emissions:  3049.956427874901\n",
      "Building:  30  - round:  1\n",
      "Building:  30  - Total Profit:  -708.8212442410733  - Total Emissions:  3061.343577385775\n",
      "Building:  30  - round:  2\n",
      "Building:  30  - Total Profit:  -708.1540228254133  - Total Emissions:  3092.509712502669\n"
     ]
    }
   ],
   "source": [
    "# LOCAL LEARNING\n",
    "\n",
    "result_df = pd.DataFrame(columns=['Building', 'Total Profit'])\n",
    "\n",
    "start_time = time.time()\n",
    "for idx in range(num_buildings):\n",
    "    for round in range(num_rounds):\n",
    "        building_index=idx+1\n",
    "        print(\"Building: \", building_index, \" - round: \", round)\n",
    "        #0. Reset global step\n",
    "        tf.compat.v1.reset_default_graph()\n",
    "        global_step = tf.compat.v1.train.get_or_create_global_step()\n",
    "        \n",
    "        #1. Initalize agent\n",
    "        tf_agent, eval_policy, collect_policy = initialize_ddpg_agent(observation_spec, action_spec, global_step, environments)\n",
    "\n",
    "        #2. Prepare training pipeline: Setup iterator, replay buffer, driver\n",
    "        iterator, collect_driver, time_step, policy_state = setup_rl_training_pipeline(\n",
    "            tf_agent, environments[\"train\"][f\"building_{building_index}\"], replay_buffer_capacity,collect_policy, \n",
    "            initial_collect_steps, collect_steps_per_iteration, batch_size\n",
    "            )\n",
    "\n",
    "        #3. Setup wandb logging\n",
    "        artifact = initialize_wandb_logging(name=f\"{csv_name}_Home{building_index}_rd{round}\", num_iterations=num_iterations)\n",
    "\n",
    "        #4. Train, evaluate agent and store weights\n",
    "        result_df, metrics = agent_training_and_evaluation(global_step, num_iterations, collect_driver, \n",
    "                time_step, policy_state, iterator, tf_agent, eval_policy, building_index, result_df, eval_interval, environments)\n",
    "            \n",
    "        #5. End and log wandb\n",
    "        end_and_log_wandb(metrics, artifact)\n",
    "\n",
    "end_time = time.time()\n",
    "time_taken = end_time - start_time"
   ]
  },
  {
   "cell_type": "code",
   "execution_count": 6,
   "metadata": {},
   "outputs": [
    {
     "name": "stdout",
     "output_type": "stream",
     "text": [
      "Final result:  -100228.02800738315\n"
     ]
    }
   ],
   "source": [
    "# Save results\n",
    "result_df['Setup'] = csv_name\n",
    "result_df['Time'] = time_taken\n",
    "result_df.index.name = 'Building_nr'\n",
    "result_df.reset_index(inplace=True, drop=True)\n",
    "os.makedirs('results', exist_ok=True)\n",
    "result_df.to_csv(f'results/{csv_name}.csv', index=False)\n",
    "\n",
    "print(\"Final result: \", result_df[\"Total Profit\"].sum())"
   ]
  },
  {
   "cell_type": "code",
   "execution_count": 7,
   "metadata": {},
   "outputs": [
    {
     "name": "stdout",
     "output_type": "stream",
     "text": [
      "{'ok': True, 'result': {'message_id': 279, 'from': {'id': 7071194232, 'is_bot': True, 'first_name': 'Reinforcement Learning', 'username': 'FederatedRL_Bot'}, 'chat': {'id': 5493937056, 'first_name': 'Jonas', 'last_name': 'Sievers', 'username': 'JonasSievers', 'type': 'private'}, 'date': 1722618036, 'text': 'Script .81!'}}\n"
     ]
    }
   ],
   "source": [
    "import requests\n",
    "\n",
    "def send_telegram_message(bot_token, chat_id, message):\n",
    "    \"\"\"Send a message to a Telegram chat via the Bot API.\"\"\"\n",
    "    url = f\"https://api.telegram.org/bot{bot_token}/sendMessage\"\n",
    "    payload = {\n",
    "        \"chat_id\": chat_id,\n",
    "        \"text\": message,\n",
    "        \"parse_mode\": \"Markdown\"\n",
    "    }\n",
    "    response = requests.post(url, json=payload)\n",
    "    return response.json()\n",
    "\n",
    "# Use the function\n",
    "bot_token = os.getenv('TELEGRAM_BOT_TOKEN')\n",
    "chat_id = os.getenv('TELEGRAM_CHAT_ID')\n",
    "message = f\"Script .81!\"\n",
    "\n",
    "result = send_telegram_message(bot_token, chat_id, message)\n",
    "print(result)"
   ]
  },
  {
   "cell_type": "code",
   "execution_count": 11,
   "metadata": {},
   "outputs": [
    {
     "data": {
      "text/plain": [
       "-100228.02800738315"
      ]
     },
     "execution_count": 11,
     "metadata": {},
     "output_type": "execute_result"
    }
   ],
   "source": [
    "result_df['Total Profit'].sum()"
   ]
  },
  {
   "cell_type": "code",
   "execution_count": 9,
   "metadata": {},
   "outputs": [
    {
     "data": {
      "text/plain": [
       "110.77716914514751"
      ]
     },
     "execution_count": 9,
     "metadata": {},
     "output_type": "execute_result"
    }
   ],
   "source": [
    "std_dev = result_df.groupby('Building')['Total Emissions'].std().mean()\n",
    "std_dev"
   ]
  }
 ],
 "metadata": {
  "kernelspec": {
   "display_name": ".venv",
   "language": "python",
   "name": "python3"
  },
  "language_info": {
   "codemirror_mode": {
    "name": "ipython",
    "version": 3
   },
   "file_extension": ".py",
   "mimetype": "text/x-python",
   "name": "python",
   "nbconvert_exporter": "python",
   "pygments_lexer": "ipython3",
   "version": "3.10.0"
  }
 },
 "nbformat": 4,
 "nbformat_minor": 2
}
