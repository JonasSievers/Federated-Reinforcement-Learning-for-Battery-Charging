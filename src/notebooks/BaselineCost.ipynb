{
 "cells": [
  {
   "cell_type": "markdown",
   "metadata": {},
   "source": [
    "# Cost calculation for the 3 baselines"
   ]
  },
  {
   "cell_type": "markdown",
   "metadata": {},
   "source": [
    "This notebook calculates the cost for our 3 baselines:\n",
    "1. Cost without PV: This calculates the electricity cost for a household which has no PV installed\n",
    "2. Cost with PV: This calculates the electricity cost for a household which has PV installed but no battery to safe energy\n",
    "3. Ruled Based: This calculates with simple rules the electricity cost for a household which has PV and a battery installed\n",
    "\n",
    "Note: Negative values mean cost and postive values mean profit for a household"
   ]
  },
  {
   "cell_type": "code",
   "execution_count": 13,
   "metadata": {},
   "outputs": [],
   "source": [
    "import pandas as pd\n",
    "import sys\n",
    "import matplotlib.pyplot as plt\n",
    "sys.path.insert(0, '..')\n",
    "import utils.dataloader as dataloader\n",
    "import utils.costHelper as costHelper"
   ]
  },
  {
   "cell_type": "markdown",
   "metadata": {},
   "source": [
    "## Setup\n",
    "Here you can setup the household and data you want to use"
   ]
  },
  {
   "cell_type": "code",
   "execution_count": 22,
   "metadata": {},
   "outputs": [],
   "source": [
    "households = range(31, 61)  # Represents households from 1 to 30\n",
    "amountTimeslots = 17520 #Last year for testing\n",
    "\n",
    "household_data = {}\n",
    "\n",
    "# Loop through each household and load the data\n",
    "for household in households:\n",
    "    data = dataloader.loadCustomerData(\"../../data/3final_data/Final_Energy_dataset.csv\", household)\n",
    "    household_data[household] = data"
   ]
  },
  {
   "cell_type": "markdown",
   "metadata": {},
   "source": [
    "# Rule Based Costs and emissions"
   ]
  },
  {
   "cell_type": "code",
   "execution_count": 23,
   "metadata": {},
   "outputs": [
    {
     "name": "stdout",
     "output_type": "stream",
     "text": [
      "Profit:  -1687.004915988666\n",
      "Emissions:  7953.048669673477\n"
     ]
    }
   ],
   "source": [
    "household_profits_ruleBased = {}\n",
    "household_emissions_ruleBased = {}\n",
    "household_soes_ruleBased = {}\n",
    "\n",
    "for household in households:\n",
    "    \n",
    "    profit, emissions, soe_list = costHelper.costRuleBased2(\n",
    "        data=household_data[household], \n",
    "        battery_power=2.3, \n",
    "        quantil=10, \n",
    "        ecoPriority=0)\n",
    "    \n",
    "    household_profits_ruleBased[household] = profit\n",
    "    household_emissions_ruleBased[household] = emissions\n",
    "    household_soes_ruleBased[household] = soe_list\n",
    "\n",
    "\n",
    "# Convert the profits dictionary to a DataFrame for better handling and saving\n",
    "profits_ruleBased_df = pd.DataFrame(list(household_profits_ruleBased.items()), columns=['Household', 'Profit'])\n",
    "emissions_ruleBased_df = pd.DataFrame(list(household_emissions_ruleBased.items()), columns=['Household', 'Emissions'])\n",
    "soes_ruleBased_df = pd.DataFrame(list(household_soes_ruleBased.items()), columns=['Household', 'SoEs']) \n",
    "\n",
    "houses = 30\n",
    "print(\"Profit: \", profits_ruleBased_df['Profit'].sum()/houses)\n",
    "print(\"Emissions: \", emissions_ruleBased_df['Emissions'].sum()/houses)"
   ]
  },
  {
   "cell_type": "code",
   "execution_count": 25,
   "metadata": {},
   "outputs": [],
   "source": [
    "result_df = pd.merge(profits_ruleBased_df, emissions_ruleBased_df, on='Household')\n",
    "result_df.to_csv(f'results/ruleBased_OnlyCosts_ZEROSHOT.csv', index=False)"
   ]
  },
  {
   "cell_type": "code",
   "execution_count": 26,
   "metadata": {},
   "outputs": [
    {
     "name": "stdout",
     "output_type": "stream",
     "text": [
      "Profit:  -1653.966465102665\n",
      "Emissions:  5806.261513438997\n"
     ]
    }
   ],
   "source": [
    "household_profits_ruleBased = {}\n",
    "household_emissions_ruleBased = {}\n",
    "household_soes_ruleBased = {}\n",
    "\n",
    "for household in households:\n",
    "    \n",
    "    profit, emissions, soe_list = costHelper.costRuleBased2(\n",
    "        data=household_data[household], \n",
    "        battery_power=2.3, \n",
    "        quantil=10, \n",
    "        ecoPriority=1)\n",
    "    \n",
    "    household_profits_ruleBased[household] = profit\n",
    "    household_emissions_ruleBased[household] = emissions\n",
    "    household_soes_ruleBased[household] = soe_list\n",
    "\n",
    "\n",
    "# Convert the profits dictionary to a DataFrame for better handling and saving\n",
    "profits_ruleBased_df = pd.DataFrame(list(household_profits_ruleBased.items()), columns=['Household', 'Profit'])\n",
    "emissions_ruleBased_df = pd.DataFrame(list(household_emissions_ruleBased.items()), columns=['Household', 'Emissions'])\n",
    "soes_ruleBased_df = pd.DataFrame(list(household_soes_ruleBased.items()), columns=['Household', 'SoEs']) \n",
    "\n",
    "houses = 30\n",
    "print(\"Profit: \", profits_ruleBased_df['Profit'].sum()/houses)\n",
    "print(\"Emissions: \", emissions_ruleBased_df['Emissions'].sum()/houses)"
   ]
  },
  {
   "cell_type": "code",
   "execution_count": 27,
   "metadata": {},
   "outputs": [],
   "source": [
    "result_df = pd.merge(profits_ruleBased_df, emissions_ruleBased_df, on='Household')\n",
    "result_df.to_csv(f'results/03zeroshot/ruleBased_OnlyEmissions_ZEROSHOT.csv', index=False)"
   ]
  },
  {
   "cell_type": "markdown",
   "metadata": {},
   "source": [
    "# Rule Based Zero Shot"
   ]
  },
  {
   "cell_type": "code",
   "execution_count": 10,
   "metadata": {},
   "outputs": [],
   "source": [
    "households2 = range(31, 61)  # Represents households from 1 to 30\n",
    "amountTimeslots = 17520 #Last year for testing\n",
    "\n",
    "household_data2 = {}\n",
    "\n",
    "# Loop through each household and load the data\n",
    "for household in households2:\n",
    "    data = dataloader.loadCustomerData(\"../../data/3final_data/Final_Energy_dataset.csv\", household)\n",
    "    household_data2[household] = data"
   ]
  },
  {
   "cell_type": "code",
   "execution_count": 11,
   "metadata": {},
   "outputs": [
    {
     "name": "stdout",
     "output_type": "stream",
     "text": [
      "Profit:  -1687.004915988666\n",
      "Emissions:  7953.048669673477\n"
     ]
    }
   ],
   "source": [
    "household_profits_ruleBased2 = {}\n",
    "household_emissions_ruleBased2 = {}\n",
    "household_soes_ruleBased2 = {}\n",
    "\n",
    "for household in households2:\n",
    "    \n",
    "    profit, emissions, soe_list = costHelper.costRuleBased2(\n",
    "        data=household_data2[household], \n",
    "        battery_power=2.3, \n",
    "        quantil=10, \n",
    "        ecoPriority=0)\n",
    "    \n",
    "    household_profits_ruleBased2[household] = profit\n",
    "    household_emissions_ruleBased2[household] = emissions\n",
    "    household_soes_ruleBased2[household] = soe_list\n",
    "\n",
    "\n",
    "# Convert the profits dictionary to a DataFrame for better handling and saving\n",
    "profits_ruleBased_df2 = pd.DataFrame(list(household_profits_ruleBased2.items()), columns=['Household', 'Profit'])\n",
    "emissions_ruleBased_df2 = pd.DataFrame(list(household_emissions_ruleBased2.items()), columns=['Household', 'Emissions'])\n",
    "soes_ruleBased_df2 = pd.DataFrame(list(household_soes_ruleBased2.items()), columns=['Household', 'SoEs']) \n",
    "\n",
    "houses = 30\n",
    "print(\"Profit: \", profits_ruleBased_df2['Profit'].sum()/houses)\n",
    "print(\"Emissions: \", emissions_ruleBased_df2['Emissions'].sum()/houses)"
   ]
  },
  {
   "cell_type": "code",
   "execution_count": 12,
   "metadata": {},
   "outputs": [
    {
     "name": "stdout",
     "output_type": "stream",
     "text": [
      "Profit:  -1653.966465102665\n",
      "Emissions:  5806.261513438997\n"
     ]
    }
   ],
   "source": [
    "household_profits_ruleBased2 = {}\n",
    "household_emissions_ruleBased2 = {}\n",
    "household_soes_ruleBased2 = {}\n",
    "\n",
    "for household in households2:\n",
    "    \n",
    "    profit, emissions, soe_list = costHelper.costRuleBased2(\n",
    "        data=household_data2[household], \n",
    "        battery_power=2.3, \n",
    "        quantil=10, \n",
    "        ecoPriority=1)\n",
    "    \n",
    "    household_profits_ruleBased2[household] = profit\n",
    "    household_emissions_ruleBased2[household] = emissions\n",
    "    household_soes_ruleBased2[household] = soe_list\n",
    "\n",
    "\n",
    "# Convert the profits dictionary to a DataFrame for better handling and saving\n",
    "profits_ruleBased_df2 = pd.DataFrame(list(household_profits_ruleBased2.items()), columns=['Household', 'Profit'])\n",
    "emissions_ruleBased_df2 = pd.DataFrame(list(household_emissions_ruleBased2.items()), columns=['Household', 'Emissions'])\n",
    "soes_ruleBased_df2 = pd.DataFrame(list(household_soes_ruleBased2.items()), columns=['Household', 'SoEs']) \n",
    "\n",
    "houses = 30\n",
    "print(\"Profit: \", profits_ruleBased_df2['Profit'].sum()/houses)\n",
    "print(\"Emissions: \", emissions_ruleBased_df2['Emissions'].sum()/houses)"
   ]
  }
 ],
 "metadata": {
  "kernelspec": {
   "display_name": ".venv",
   "language": "python",
   "name": "python3"
  },
  "language_info": {
   "codemirror_mode": {
    "name": "ipython",
    "version": 3
   },
   "file_extension": ".py",
   "mimetype": "text/x-python",
   "name": "python",
   "nbconvert_exporter": "python",
   "pygments_lexer": "ipython3",
   "version": "3.10.0"
  }
 },
 "nbformat": 4,
 "nbformat_minor": 2
}
