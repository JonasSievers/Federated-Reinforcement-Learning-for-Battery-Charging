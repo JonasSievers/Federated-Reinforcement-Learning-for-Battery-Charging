{
 "cells": [
  {
   "cell_type": "code",
   "execution_count": 27,
   "metadata": {},
   "outputs": [],
   "source": [
    "import pandas as pd\n",
    "import numpy as np"
   ]
  },
  {
   "cell_type": "code",
   "execution_count": 15,
   "metadata": {},
   "outputs": [],
   "source": [
    "final_df = pd.DataFrame()\n",
    "\n",
    "# Load and pv\n",
    "totalload_df = pd.read_csv(\"../Final_Totalload_dataset.csv\", header=0)\n",
    "totalload_df.columns = totalload_df.columns.str.replace('User', 'load')\n",
    "totalload_df = totalload_df.loc[:, ~totalload_df.columns.str.contains('lag')]\n",
    "strings_to_drop = ['temp', 'rhum', 'wspd', 'PC1', 'hour sin', 'hour cos']\n",
    "totalload_df = totalload_df.drop(columns=[col for col in totalload_df.columns if any(string in col for string in strings_to_drop)])\n"
   ]
  },
  {
   "cell_type": "code",
   "execution_count": 19,
   "metadata": {},
   "outputs": [],
   "source": [
    "pv_df = pd.read_csv(\"../Final_PV_dataset.csv\", header=0)\n",
    "pv_df.columns = pv_df.columns.str.replace('User', 'pv')\n",
    "pv_df = pv_df.loc[:, ~pv_df.columns.str.contains('lag')]\n",
    "strings_to_drop = ['temp', 'rhum', 'wspd', 'PC1', 'hour sin', 'hour cos']\n",
    "pv_df = pv_df.drop(columns=[col for col in pv_df.columns if any(string in col for string in strings_to_drop)])"
   ]
  },
  {
   "cell_type": "code",
   "execution_count": 30,
   "metadata": {},
   "outputs": [],
   "source": [
    "price_df = pd.read_csv(\"../../1process_data/processed_price.csv\", header=0)\n",
    "price_df = price_df.groupby(np.arange(len(price_df)) // 2).mean().reset_index(drop=True)\n",
    "\n",
    "# Load fuelmix\n",
    "fuel_df = pd.read_csv(\"../../1process_data/processed_fuelmix.csv\", header=0)\n",
    "fuel_df = fuel_df.groupby(np.arange(len(fuel_df)) // 2).mean().reset_index(drop=True)"
   ]
  },
  {
   "cell_type": "code",
   "execution_count": 36,
   "metadata": {},
   "outputs": [
    {
     "name": "stdout",
     "output_type": "stream",
     "text": [
      "PV:  26280\n",
      "Load:  26280\n",
      "Fuel:  26304\n",
      "Price:  26304\n"
     ]
    }
   ],
   "source": [
    "print(\"PV: \", len(pv_df))\n",
    "print(\"Load: \", len(totalload_df))\n",
    "print(\"Fuel: \", len(fuel_df))\n",
    "print(\"Price: \", len(price_df))\n",
    "\n",
    "# Combine all DataFrames horizontally\n",
    "final_df = pd.concat([pv_df.iloc[:26280], totalload_df.iloc[:26280], fuel_df.iloc[:26280], price_df.iloc[:26280]], axis=1)\n",
    "final_df.columns = [*final_df.columns[:-2], 'fuelmix', final_df.columns[-1]]"
   ]
  },
  {
   "cell_type": "code",
   "execution_count": 39,
   "metadata": {},
   "outputs": [],
   "source": [
    "final_df\n",
    "final_df.to_csv(\"../Final_Energy_dataset.csv\", sep=',', index=False, encoding='utf-8')"
   ]
  },
  {
   "cell_type": "markdown",
   "metadata": {},
   "source": [
    "# Old"
   ]
  },
  {
   "cell_type": "code",
   "execution_count": 25,
   "metadata": {},
   "outputs": [],
   "source": [
    "# Load all data\n",
    "\n",
    "customer = 1\n",
    "final_df = pd.DataFrame()\n",
    "\n",
    "# Load and pv\n",
    "load_pv_df = pd.read_csv(\"../../1process_data/processed_load_pv_\"+str(customer)+\".csv\", header=0)\n",
    "load = load_pv_df[\"Load\"]\n",
    "pv = load_pv_df[\"PV\"]\n",
    "\n",
    "# Load price\n",
    "price_df = pd.read_csv(\"../../1process_data/processed_price.csv\", header=0)\n",
    "\n",
    "# Load fuelmix\n",
    "fuel_df = pd.read_csv(\"../../1process_data/processed_fuelmix.csv\", header=0)\n",
    "\n",
    "final_df.insert(0,\"Load\",load)\n",
    "final_df.insert(1,\"PV\", pv)\n",
    "final_df.insert(2,\"Price\", price_df)\n",
    "final_df.insert(3,\"Fuel Share\", fuel_df)\n",
    "\n",
    "\n",
    "# Save df\n",
    "#final_df.to_csv(\"../combined_data_\"+str(customer)+\".csv\", sep=',', index=False, encoding='utf-8')"
   ]
  }
 ],
 "metadata": {
  "kernelspec": {
   "display_name": ".venv",
   "language": "python",
   "name": "python3"
  },
  "language_info": {
   "codemirror_mode": {
    "name": "ipython",
    "version": 3
   },
   "file_extension": ".py",
   "mimetype": "text/x-python",
   "name": "python",
   "nbconvert_exporter": "python",
   "pygments_lexer": "ipython3",
   "version": "3.10.0"
  }
 },
 "nbformat": 4,
 "nbformat_minor": 2
}
