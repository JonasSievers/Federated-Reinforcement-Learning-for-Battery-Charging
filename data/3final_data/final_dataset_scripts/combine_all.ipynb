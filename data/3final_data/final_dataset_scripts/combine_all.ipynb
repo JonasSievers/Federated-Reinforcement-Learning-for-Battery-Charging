{
 "cells": [
  {
   "cell_type": "code",
   "execution_count": 37,
   "metadata": {},
   "outputs": [],
   "source": [
    "import pandas as pd"
   ]
  },
  {
   "cell_type": "code",
   "execution_count": 38,
   "metadata": {},
   "outputs": [],
   "source": [
    "# Load all data\n",
    "\n",
    "customer = 1\n",
    "final_df = pd.DataFrame()\n",
    "\n",
    "# Load and pv\n",
    "load_pv_df = pd.read_csv(\"../../1process_data/processed_load_pv_\"+str(customer)+\".csv\", header=0)\n",
    "load = load_pv_df[\"Load\"]\n",
    "pv = load_pv_df[\"PV\"]\n",
    "\n",
    "# Load price\n",
    "price_df = pd.read_csv(\"../../1process_data/processed_price.csv\", header=0)\n",
    "\n",
    "# Load fuelmix\n",
    "fuel_df = pd.read_csv(\"../../1process_data/processed_fuelmix.csv\", header=0)\n",
    "\n",
    "final_df.insert(0,\"Load\",load)\n",
    "final_df.insert(1,\"PV\", pv)\n",
    "final_df.insert(2,\"Price\", price_df)\n",
    "final_df.insert(3,\"Fuel Share\", fuel_df)\n",
    "\n",
    "\n",
    "# Save df\n",
    "final_df.to_csv(\"../combined_data_\"+str(customer)+\".csv\", sep=',', index=False, encoding='utf-8')"
   ]
  }
 ],
 "metadata": {
  "kernelspec": {
   "display_name": ".venv",
   "language": "python",
   "name": "python3"
  },
  "language_info": {
   "codemirror_mode": {
    "name": "ipython",
    "version": 3
   },
   "file_extension": ".py",
   "mimetype": "text/x-python",
   "name": "python",
   "nbconvert_exporter": "python",
   "pygments_lexer": "ipython3",
   "version": "3.11.6"
  }
 },
 "nbformat": 4,
 "nbformat_minor": 2
}
