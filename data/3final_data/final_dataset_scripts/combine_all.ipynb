{
 "cells": [
  {
   "cell_type": "code",
   "execution_count": 2,
   "metadata": {},
   "outputs": [],
   "source": [
    "import pandas as pd"
   ]
  },
  {
   "cell_type": "code",
   "execution_count": 5,
   "metadata": {},
   "outputs": [],
   "source": [
    "# Load all data\n",
    "\n",
    "customer = 1\n",
    "final_df = pd.DataFrame()\n",
    "\n",
    "# Load and pv\n",
    "load_pv_df = pd.read_csv(\"../../1process_data/processed_load_pv_\"+str(customer)+\".csv\", header=0)\n",
    "load = load_pv_df[\"Load\"]\n",
    "pv = load_pv_df[\"PV\"]\n",
    "\n",
    "# Load price\n",
    "price_df = pd.read_csv(\"../../1process_data/processed_price.csv\", header=0)\n",
    "\n",
    "# Load fuelmix\n",
    "fuel_df = pd.read_csv(\"../../1process_data/processed_fuelmix.csv\", header=0)\n",
    "\n",
    "final_df.insert(0,\"Load\",load)\n",
    "final_df.insert(1,\"PV\", pv)\n",
    "final_df.insert(2,\"Price\", price_df)\n",
    "final_df.insert(3,\"Fuel Share\", fuel_df)\n",
    "\n",
    "\n",
    "# Save df\n",
    "final_df.to_csv(\"../combined_data_\"+str(customer)+\".csv\", sep=',', index=False, encoding='utf-8')"
   ]
  },
  {
   "cell_type": "code",
   "execution_count": 8,
   "metadata": {},
   "outputs": [],
   "source": [
    "# Load all data\n",
    "\n",
    "customer = 1\n",
    "final_df = pd.DataFrame()\n",
    "\n",
    "# Load and pv\n",
    "load_pv_df = pd.read_csv(\"../../1process_data/processed_load_pv_\"+str(customer)+\".csv\", header=0)\n",
    "load = load_pv_df[\"Load\"]\n",
    "pv = load_pv_df[\"PV\"]\n",
    "\n",
    "# Load price\n",
    "price_df = pd.read_csv(\"../../1process_data/processed_price.csv\", header=0)\n",
    "\n",
    "normal_year = price_df[0:17520]\n",
    "leap_year = price_df\n",
    "\n",
    "price_df = pd.concat([normal_year.set_index(pd.RangeIndex(0,17520)),leap_year.set_index(pd.RangeIndex(17520,35088)),normal_year.set_index(pd.RangeIndex(35088,52608))])\n",
    "\n",
    "# Load fuelmix\n",
    "fuel_df = pd.read_csv(\"../../1process_data/processed_fuelmix.csv\", header=0)\n",
    "\n",
    "final_df.insert(0,\"Load\",load)\n",
    "final_df.insert(1,\"PV\", pv)\n",
    "final_df.insert(2,\"Price\", price_df)\n",
    "final_df.insert(3,\"Fuel Share\", fuel_df)\n",
    "\n",
    "\n",
    "# Save df\n",
    "final_df.to_csv(\"../combined_data_\"+str(customer)+\".csv\", sep=',', index=False, encoding='utf-8')"
   ]
  }
 ],
 "metadata": {
  "kernelspec": {
   "display_name": ".venv",
   "language": "python",
   "name": "python3"
  },
  "language_info": {
   "codemirror_mode": {
    "name": "ipython",
    "version": 3
   },
   "file_extension": ".py",
   "mimetype": "text/x-python",
   "name": "python",
   "nbconvert_exporter": "python",
   "pygments_lexer": "ipython3",
   "version": "3.11.6"
  }
 },
 "nbformat": 4,
 "nbformat_minor": 2
}
