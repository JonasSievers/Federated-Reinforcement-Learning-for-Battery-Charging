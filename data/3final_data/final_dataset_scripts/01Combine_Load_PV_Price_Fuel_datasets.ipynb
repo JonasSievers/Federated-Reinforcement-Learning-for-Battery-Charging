{
 "cells": [
  {
   "cell_type": "code",
   "execution_count": 30,
   "metadata": {},
   "outputs": [],
   "source": [
    "import pandas as pd\n",
    "\n",
    "# Load data\n",
    "price_df = pd.read_csv(\"../../1process_data/processed_price.csv\", header=0)\n",
    "fuel_df = pd.read_csv(\"../../1process_data/processed_fuelmix.csv\", header=0)\n",
    "pv_df = pd.read_csv(\"../../1process_data/2010-2013 PV_processed.csv\", header=0)\n",
    "totalload_df = pd.read_csv(\"../../1process_data/2010-2013 Totalload_processed.csv\", header=0)\n",
    "grossload_df = pd.read_csv(\"../../1process_data/2010-2013 Grossload_processed.csv\", header=0)\n",
    "\n",
    "\n",
    "#Rename\n",
    "pv_df.columns = [col.replace('User', 'pv_') for col in pv_df.columns]\n",
    "totalload_df.columns = [col.replace('User', 'load_') for col in totalload_df.columns]\n",
    "grossload_df.columns = [col.replace('User', 'load_') for col in grossload_df.columns]\n",
    "fuel_df.rename(columns={\"0\": 'Fuelmix'}, inplace=True)\n",
    "\n",
    "\n",
    "#Concat to final df\n",
    "final_df = pd.DataFrame()\n",
    "final_df[\"price\"] = price_df[\"Price\"]\n",
    "final_df[\"fuelmix\"] = fuel_df[\"Fuelmix\"]\n",
    "final_df = pd.concat([final_df, totalload_df, pv_df], axis=1)\n",
    "\n",
    "final_df.to_csv(\"../Final_Energy_dataset.csv\", sep=',', index=False, encoding='utf-8')"
   ]
  },
  {
   "cell_type": "markdown",
   "metadata": {},
   "source": [
    "# Old"
   ]
  },
  {
   "cell_type": "code",
   "execution_count": 25,
   "metadata": {},
   "outputs": [],
   "source": [
    "# Load all data\n",
    "\n",
    "customer = 1\n",
    "final_df = pd.DataFrame()\n",
    "\n",
    "# Load and pv\n",
    "load_pv_df = pd.read_csv(\"../../1process_data/processed_load_pv_\"+str(customer)+\".csv\", header=0)\n",
    "load = load_pv_df[\"Load\"]\n",
    "pv = load_pv_df[\"PV\"]\n",
    "\n",
    "# Load price\n",
    "price_df = pd.read_csv(\"../../1process_data/processed_price.csv\", header=0)\n",
    "\n",
    "# Load fuelmix\n",
    "fuel_df = pd.read_csv(\"../../1process_data/processed_fuelmix.csv\", header=0)\n",
    "\n",
    "final_df.insert(0,\"Load\",load)\n",
    "final_df.insert(1,\"PV\", pv)\n",
    "final_df.insert(2,\"Price\", price_df)\n",
    "final_df.insert(3,\"Fuel Share\", fuel_df)\n",
    "\n",
    "\n",
    "# Save df\n",
    "#final_df.to_csv(\"../combined_data_\"+str(customer)+\".csv\", sep=',', index=False, encoding='utf-8')"
   ]
  }
 ],
 "metadata": {
  "kernelspec": {
   "display_name": ".venv",
   "language": "python",
   "name": "python3"
  },
  "language_info": {
   "codemirror_mode": {
    "name": "ipython",
    "version": 3
   },
   "file_extension": ".py",
   "mimetype": "text/x-python",
   "name": "python",
   "nbconvert_exporter": "python",
   "pygments_lexer": "ipython3",
   "version": "3.11.7"
  }
 },
 "nbformat": 4,
 "nbformat_minor": 2
}
