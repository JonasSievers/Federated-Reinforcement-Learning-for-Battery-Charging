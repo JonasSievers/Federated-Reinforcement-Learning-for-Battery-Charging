{
 "cells": [
  {
   "cell_type": "code",
   "execution_count": 1,
   "metadata": {},
   "outputs": [],
   "source": [
    "import pandas as pd\n",
    "import numpy as np"
   ]
  },
  {
   "cell_type": "code",
   "execution_count": 2,
   "metadata": {},
   "outputs": [],
   "source": [
    "path_train_data = '../../0raw_data/2010-2011 Solar home electricity data.csv'\n",
    "path_eval_data = '../../0raw_data/2011-2012 Solar home electricity data.csv'\n",
    "path_test_data = '../../0raw_data/2012-2013 Solar home electricity data.csv'"
   ]
  },
  {
   "cell_type": "code",
   "execution_count": 3,
   "metadata": {},
   "outputs": [],
   "source": [
    "def loadTrainEvalTest(pathTrain,pathEval,pathTest):\n",
    "    df_load_train = pd.read_csv(pathTrain, header=1, parse_dates=['date'], date_format=\"%d/%m/%y\")\n",
    "    df_load_eval = pd.read_csv(pathEval, header=1, parse_dates=['date'], date_format=\"%d/%m/%y\")\n",
    "    df_load_test = pd.read_csv(pathTest, header=1, parse_dates=['date'], date_format=\"%d/%m/%y\")\n",
    "\n",
    "    return pd.concat([df_load_train, df_load_eval, df_load_test])"
   ]
  },
  {
   "cell_type": "code",
   "execution_count": 4,
   "metadata": {},
   "outputs": [],
   "source": [
    "def combineControlledAndGeneralConsumption(df):\n",
    "    if (df == 'CL').any().any():\n",
    "        combinedLoad = pd.DataFrame(columns=df.columns)\n",
    "        cl = df[df['Consumption Category'] == 'CL'].set_index(pd.RangeIndex(0, 1096))\n",
    "        gc = df[df['Consumption Category'] == 'GC'].set_index(pd.RangeIndex(0, 1096))\n",
    "        clgc = pd.concat([cl,gc])\n",
    "        for i in range(0,1096):\n",
    "            sum = clgc.loc[i].sum()\n",
    "            sum['date'] = i\n",
    "            combinedLoad.loc[i] = sum\n",
    "        final_load = combinedLoad\n",
    "    else:\n",
    "        final_load = df[df['Consumption Category']=='GC']\n",
    "    \n",
    "    load_array = np.array(final_load.drop(columns=['Consumption Category', 'date'])).flatten()\n",
    "    return pd.DataFrame({\"Load\":load_array}) "
   ]
  },
  {
   "cell_type": "code",
   "execution_count": 7,
   "metadata": {},
   "outputs": [],
   "source": [
    "# Load data\n",
    "df = loadTrainEvalTest(path_train_data,path_eval_data,path_test_data)\n",
    "\n",
    "# Remove unneccessary data\n",
    "df = df.drop(columns=['Generator Capacity', 'Postcode', 'Row Quality'])\n",
    "\n",
    "# Choose customer\n",
    "customer = 1\n",
    "customer_df = df[df['Customer']==customer].drop(columns=['Customer'])\n",
    "\n",
    "# Combine controlled and general consumption if needed\n",
    "proccessed_df = combineControlledAndGeneralConsumption(customer_df)\n",
    "\n",
    "# Get pv prodcution\n",
    "pv_array = np.array(customer_df[customer_df['Consumption Category']=='GG'].drop(columns=['Consumption Category', 'date']).set_index(pd.RangeIndex(0, 1096))).flatten()\n",
    "proccessed_df.insert(1,\"PV\",pv_array)\n",
    "\n",
    "# Save df\n",
    "proccessed_df.to_csv(\"../processed_load_pv_\"+str(customer)+\".csv\", sep=',', index=False, encoding='utf-8')"
   ]
  }
 ],
 "metadata": {
  "kernelspec": {
   "display_name": ".venv",
   "language": "python",
   "name": "python3"
  },
  "language_info": {
   "codemirror_mode": {
    "name": "ipython",
    "version": 3
   },
   "file_extension": ".py",
   "mimetype": "text/x-python",
   "name": "python",
   "nbconvert_exporter": "python",
   "pygments_lexer": "ipython3",
   "version": "3.11.6"
  }
 },
 "nbformat": 4,
 "nbformat_minor": 2
}
