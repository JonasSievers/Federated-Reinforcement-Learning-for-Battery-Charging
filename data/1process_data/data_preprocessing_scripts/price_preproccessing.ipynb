{
 "cells": [
  {
   "cell_type": "code",
   "execution_count": 1,
   "metadata": {},
   "outputs": [],
   "source": [
    "import pandas as pd"
   ]
  },
  {
   "cell_type": "code",
   "execution_count": 2,
   "metadata": {},
   "outputs": [],
   "source": [
    "path_data = ['../../0raw_data/PRICE_AND_DEMAND_201007_NSW1.csv', '../../0raw_data/PRICE_AND_DEMAND_201008_NSW1.csv',\n",
    "              '../../0raw_data/PRICE_AND_DEMAND_201009_NSW1.csv', '../../0raw_data/PRICE_AND_DEMAND_201010_NSW1.csv',\n",
    "              '../../0raw_data/PRICE_AND_DEMAND_201011_NSW1.csv', '../../0raw_data/PRICE_AND_DEMAND_201012_NSW1.csv',\n",
    "              '../../0raw_data/PRICE_AND_DEMAND_201101_NSW1.csv', '../../0raw_data/PRICE_AND_DEMAND_201102_NSW1.csv',\n",
    "              '../../0raw_data/PRICE_AND_DEMAND_201103_NSW1.csv', '../../0raw_data/PRICE_AND_DEMAND_201104_NSW1.csv',\n",
    "              '../../0raw_data/PRICE_AND_DEMAND_201105_NSW1.csv', '../../0raw_data/PRICE_AND_DEMAND_201106_NSW1.csv',\n",
    "              '../../0raw_data/PRICE_AND_DEMAND_201107_NSW1.csv', '../../0raw_data/PRICE_AND_DEMAND_201108_NSW1.csv',\n",
    "              '../../0raw_data/PRICE_AND_DEMAND_201109_NSW1.csv', '../../0raw_data/PRICE_AND_DEMAND_201110_NSW1.csv',\n",
    "              '../../0raw_data/PRICE_AND_DEMAND_201111_NSW1.csv', '../../0raw_data/PRICE_AND_DEMAND_201112_NSW1.csv',\n",
    "              '../../0raw_data/PRICE_AND_DEMAND_201201_NSW1.csv', '../../0raw_data/PRICE_AND_DEMAND_201202_NSW1.csv',\n",
    "              '../../0raw_data/PRICE_AND_DEMAND_201203_NSW1.csv', '../../0raw_data/PRICE_AND_DEMAND_201204_NSW1.csv',\n",
    "              '../../0raw_data/PRICE_AND_DEMAND_201205_NSW1.csv', '../../0raw_data/PRICE_AND_DEMAND_201206_NSW1.csv',\n",
    "              '../../0raw_data/PRICE_AND_DEMAND_201207_NSW1.csv', '../../0raw_data/PRICE_AND_DEMAND_201208_NSW1.csv',\n",
    "              '../../0raw_data/PRICE_AND_DEMAND_201209_NSW1.csv', '../../0raw_data/PRICE_AND_DEMAND_201210_NSW1.csv',\n",
    "              '../../0raw_data/PRICE_AND_DEMAND_201211_NSW1.csv', '../../0raw_data/PRICE_AND_DEMAND_201212_NSW1.csv',\n",
    "              '../../0raw_data/PRICE_AND_DEMAND_201301_NSW1.csv', '../../0raw_data/PRICE_AND_DEMAND_201302_NSW1.csv',\n",
    "              '../../0raw_data/PRICE_AND_DEMAND_201303_NSW1.csv', '../../0raw_data/PRICE_AND_DEMAND_201304_NSW1.csv',\n",
    "              '../../0raw_data/PRICE_AND_DEMAND_201305_NSW1.csv', '../../0raw_data/PRICE_AND_DEMAND_201306_NSW1.csv']"
   ]
  },
  {
   "cell_type": "code",
   "execution_count": 3,
   "metadata": {},
   "outputs": [],
   "source": [
    "# Load data\n",
    "proccessed_df = pd.DataFrame()\n",
    "for data in path_data:\n",
    "    df = pd.read_csv(data, header=0, parse_dates=['SETTLEMENTDATE'], date_format=\"%y/%d/%m\")\n",
    "    proccessed_df = pd.concat([proccessed_df, df])\n",
    "\n",
    "# Remove unneccessary data\n",
    "proccessed_df = proccessed_df.drop(columns=['REGION', 'SETTLEMENTDATE', 'TOTALDEMAND', 'PERIODTYPE']).div(1000).set_index(pd.RangeIndex(0, 52608)).rename(columns={\"RRP\": \"Price\"})\n",
    "\n",
    "# Save df\n",
    "proccessed_df.to_csv(\"../processed_price.csv\", sep=',', index=False, encoding='utf-8')"
   ]
  }
 ],
 "metadata": {
  "kernelspec": {
   "display_name": ".venv",
   "language": "python",
   "name": "python3"
  },
  "language_info": {
   "codemirror_mode": {
    "name": "ipython",
    "version": 3
   },
   "file_extension": ".py",
   "mimetype": "text/x-python",
   "name": "python",
   "nbconvert_exporter": "python",
   "pygments_lexer": "ipython3",
   "version": "3.11.6"
  }
 },
 "nbformat": 4,
 "nbformat_minor": 2
}
