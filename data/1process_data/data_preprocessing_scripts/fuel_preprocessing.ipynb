{
 "cells": [
  {
   "cell_type": "code",
   "execution_count": 1,
   "metadata": {},
   "outputs": [],
   "source": [
    "import pandas as pd\n",
    "import numpy as np"
   ]
  },
  {
   "cell_type": "code",
   "execution_count": 2,
   "metadata": {},
   "outputs": [],
   "source": [
    "path_data = \"../../0raw_data/Realisierte_Erzeugung_201807010000_202106302359_Viertelstunde.csv\""
   ]
  },
  {
   "cell_type": "code",
   "execution_count": 27,
   "metadata": {},
   "outputs": [],
   "source": [
    "# Load data\n",
    "df = pd.read_csv(path_data, sep=\";\", header=0)\n",
    "\n",
    "# Convert data into american form\n",
    "for i in range(3,15):\n",
    "    df[df.columns[i]] = (df[df.columns[i]].str.replace('.','').str.replace(',', '.')).astype(float)\n",
    "\n",
    "# Combine to half hour\n",
    "first = df.iloc[::2].set_index(pd.RangeIndex(0, 52608))\n",
    "second = df.iloc[1::2].set_index(pd.RangeIndex(0, 52608))\n",
    "proccessed_df = first.add(second)\n",
    "\n",
    "# Remove unneccessary data\n",
    "proccessed_df = proccessed_df.drop(columns=['Datum', 'Anfang', 'Ende']).set_index(pd.RangeIndex(0, 52608))"
   ]
  },
  {
   "cell_type": "code",
   "execution_count": 30,
   "metadata": {},
   "outputs": [
    {
     "data": {
      "text/html": [
       "<div>\n",
       "<style scoped>\n",
       "    .dataframe tbody tr th:only-of-type {\n",
       "        vertical-align: middle;\n",
       "    }\n",
       "\n",
       "    .dataframe tbody tr th {\n",
       "        vertical-align: top;\n",
       "    }\n",
       "\n",
       "    .dataframe thead th {\n",
       "        text-align: right;\n",
       "    }\n",
       "</style>\n",
       "<table border=\"1\" class=\"dataframe\">\n",
       "  <thead>\n",
       "    <tr style=\"text-align: right;\">\n",
       "      <th></th>\n",
       "      <th>0</th>\n",
       "    </tr>\n",
       "  </thead>\n",
       "  <tbody>\n",
       "    <tr>\n",
       "      <th>0</th>\n",
       "      <td>0.494295</td>\n",
       "    </tr>\n",
       "    <tr>\n",
       "      <th>1</th>\n",
       "      <td>0.494575</td>\n",
       "    </tr>\n",
       "    <tr>\n",
       "      <th>2</th>\n",
       "      <td>0.493771</td>\n",
       "    </tr>\n",
       "    <tr>\n",
       "      <th>3</th>\n",
       "      <td>0.490723</td>\n",
       "    </tr>\n",
       "    <tr>\n",
       "      <th>4</th>\n",
       "      <td>0.485843</td>\n",
       "    </tr>\n",
       "    <tr>\n",
       "      <th>...</th>\n",
       "      <td>...</td>\n",
       "    </tr>\n",
       "    <tr>\n",
       "      <th>52603</th>\n",
       "      <td>0.326339</td>\n",
       "    </tr>\n",
       "    <tr>\n",
       "      <th>52604</th>\n",
       "      <td>0.340767</td>\n",
       "    </tr>\n",
       "    <tr>\n",
       "      <th>52605</th>\n",
       "      <td>0.332650</td>\n",
       "    </tr>\n",
       "    <tr>\n",
       "      <th>52606</th>\n",
       "      <td>0.338447</td>\n",
       "    </tr>\n",
       "    <tr>\n",
       "      <th>52607</th>\n",
       "      <td>0.342220</td>\n",
       "    </tr>\n",
       "  </tbody>\n",
       "</table>\n",
       "<p>52608 rows × 1 columns</p>\n",
       "</div>"
      ],
      "text/plain": [
       "              0\n",
       "0      0.494295\n",
       "1      0.494575\n",
       "2      0.493771\n",
       "3      0.490723\n",
       "4      0.485843\n",
       "...         ...\n",
       "52603  0.326339\n",
       "52604  0.340767\n",
       "52605  0.332650\n",
       "52606  0.338447\n",
       "52607  0.342220\n",
       "\n",
       "[52608 rows x 1 columns]"
      ]
     },
     "execution_count": 30,
     "metadata": {},
     "output_type": "execute_result"
    }
   ],
   "source": [
    "# Calculate renewable energy share\n",
    "share = np.empty([52608,])\n",
    "for i in range(0,52608):\n",
    "    sum_renewable = proccessed_df.iloc[i,0] + proccessed_df.iloc[i,1] + proccessed_df.iloc[i,2] + proccessed_df.iloc[i,3] + proccessed_df.iloc[i,4] + proccessed_df.iloc[i,5] +  proccessed_df.iloc[i,10]\n",
    "    sum_alternativ = proccessed_df.iloc[i,6] + proccessed_df.iloc[i,7] + proccessed_df.iloc[i,8] + proccessed_df.iloc[i,9] + proccessed_df.iloc[i,11]\n",
    "    share[i] = sum_renewable / (sum_alternativ+sum_renewable)\n",
    "\n",
    "share_df = pd.DataFrame(share)\n",
    "# Save df\n",
    "share_df.to_csv(\"../processed_fuelmix.csv\", sep=',', index=False, encoding='utf-8')"
   ]
  }
 ],
 "metadata": {
  "kernelspec": {
   "display_name": ".venv",
   "language": "python",
   "name": "python3"
  },
  "language_info": {
   "codemirror_mode": {
    "name": "ipython",
    "version": 3
   },
   "file_extension": ".py",
   "mimetype": "text/x-python",
   "name": "python",
   "nbconvert_exporter": "python",
   "pygments_lexer": "ipython3",
   "version": "3.11.6"
  }
 },
 "nbformat": 4,
 "nbformat_minor": 2
}
